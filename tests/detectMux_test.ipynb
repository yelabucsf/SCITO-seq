{
 "cells": [
  {
   "cell_type": "code",
   "execution_count": 1,
   "metadata": {},
   "outputs": [
    {
     "name": "stderr",
     "output_type": "stream",
     "text": [
      "/Users/antonogorodnikov/anaconda3/envs/test2/lib/python3.7/site-packages/anndata/_core/anndata.py:21: FutureWarning: pandas.core.index is deprecated and will be removed in a future version.  The public classes are available in the top-level namespace.\n",
      "  from pandas.core.index import RangeIndex\n"
     ]
    }
   ],
   "source": [
    "import os\n",
    "import scanpy as sc\n",
    "import numpy as np\n",
    "import multiprocessing\n",
    "import anndata\n",
    "import pandas as pd\n",
    "import seaborn as sns\n",
    "\n",
    "from sklearn.cluster import KMeans\n",
    "from scipy import sparse\n",
    "from scipy.stats import norm\n"
   ]
  },
  {
   "cell_type": "code",
   "execution_count": 2,
   "metadata": {},
   "outputs": [],
   "source": [
    "path = '/Users/antonogorodnikov/Documents/Work/DataSci/SCITO-seq/tests/100k_pbmc_filtered_feature_bc_matrix.h5'\n",
    "verbose = True"
   ]
  },
  {
   "cell_type": "code",
   "execution_count": 3,
   "metadata": {},
   "outputs": [],
   "source": [
    "batchid_string='barcode'"
   ]
  },
  {
   "cell_type": "code",
   "execution_count": 4,
   "metadata": {},
   "outputs": [
    {
     "name": "stderr",
     "output_type": "stream",
     "text": [
      "Variable names are not unique. To make them unique, call `.var_names_make_unique`.\n"
     ]
    }
   ],
   "source": [
    "adata = sc.read_10x_h5(path, gex_only=False)"
   ]
  },
  {
   "cell_type": "code",
   "execution_count": 5,
   "metadata": {},
   "outputs": [],
   "source": [
    "n_clust=None\n",
    "batches = adata.var_names.str.extract(r'(%s\\d+)'%batchid_string).iloc[:,0].dropna().unique()\n",
    "nClust = n_clust if n_clust != None else len(batches)+1"
   ]
  },
  {
   "cell_type": "code",
   "execution_count": 6,
   "metadata": {},
   "outputs": [
    {
     "name": "stderr",
     "output_type": "stream",
     "text": [
      "/Users/antonogorodnikov/anaconda3/envs/test2/lib/python3.7/site-packages/pandas/core/strings.py:1952: UserWarning: This pattern has match groups. To actually get the groups, use str.extract.\n",
      "  return func(self, *args, **kwargs)\n"
     ]
    }
   ],
   "source": [
    "ab_adata = adata[:,adata.var_names.str.contains(r'(%s\\d+)'%batchid_string)]"
   ]
  },
  {
   "cell_type": "code",
   "execution_count": 7,
   "metadata": {},
   "outputs": [],
   "source": [
    "def count_collapser(data, bc):\n",
    "    '''\n",
    "    Collapses counts for all antibodies for a given batch barcode. Outputs dense data structure\n",
    "    :param data: sparse or dense data (AnnData or DataFrame) with counts\n",
    "    :param bc: batch barcode\n",
    "    :return: Numpy array of cells by batch BC.\n",
    "    '''\n",
    "    #TODO add handle for dense data\n",
    "    rel_data = data[:,data.var.index.str.contains(r'(%s$)'%bc)]\n",
    "    collapsed = rel_data.X.toarray().sum(axis=1).astype(\"int\")\n",
    "\n",
    "    return collapsed"
   ]
  },
  {
   "cell_type": "code",
   "execution_count": 8,
   "metadata": {},
   "outputs": [],
   "source": [
    "batch_counts = np.transpose(np.array([count_collapser(ab_adata, bc) for bc in batches]))"
   ]
  },
  {
   "cell_type": "code",
   "execution_count": 9,
   "metadata": {},
   "outputs": [
    {
     "name": "stderr",
     "output_type": "stream",
     "text": [
      "Transforming to str index.\n"
     ]
    }
   ],
   "source": [
    "# create anndata object with collapsed counts per batch\n",
    "batch_adata = anndata.AnnData(X=sparse.csr_matrix(batch_counts),\n",
    "                              obs=adata.obs,\n",
    "                              var=pd.DataFrame(batches, columns=['batch']))"
   ]
  },
  {
   "cell_type": "code",
   "execution_count": 10,
   "metadata": {},
   "outputs": [
    {
     "name": "stdout",
     "output_type": "stream",
     "text": [
      "Keeping linear scale data for computing average\n"
     ]
    }
   ],
   "source": [
    "sc.pp.normalize_per_cell(batch_adata, counts_per_cell_after=1e4)\n",
    "if verbose:\n",
    "    print(\"Keeping linear scale data for computing average\")\n",
    "batch_adataNormLin = batch_adata.copy()\n",
    "sc.pp.log1p(batch_adata)\n"
   ]
  },
  {
   "cell_type": "code",
   "execution_count": 12,
   "metadata": {},
   "outputs": [
    {
     "data": {
      "text/plain": [
       "matrix([[ 115.27377 ,  157.63168 ,  353.5912  ,  374.20386 ,  390.67422 ,\n",
       "          398.9704  ,  111.34127 ,  271.3435  ,  566.3717  ,  482.9309  ],\n",
       "        [3487.0315  ,   76.8935  ,  375.69064 ,  310.50958 ,  378.07184 ,\n",
       "         3221.7932  , 3125.3235  ,  529.45074 ,  353.9823  ,  324.7294  ],\n",
       "        [5645.5327  ,  242.21452 ,  685.08295 ,  453.8217  ,  378.07184 ,\n",
       "         5019.305   , 6183.3247  , 7921.9062  ,  362.83188 ,  274.77103 ],\n",
       "        [  80.69164 , 2176.0862  ,  254.14366 ,  302.5478  ,  296.15625 ,\n",
       "          193.05019 ,   82.85862 ,   99.27201 ,  318.58408 ,  233.13907 ],\n",
       "        [ 187.31989 ,   99.96155 ,  276.2431  ,  222.92995 , 4417.139   ,\n",
       "          154.44016 ,   88.037285,  145.59895 ,  415.92923 ,  341.3822  ],\n",
       "        [ 112.39193 , 4736.6396  , 6751.382   ,  374.20386 , 2791.4302  ,\n",
       "          210.2102  ,  119.10927 ,  218.39842 , 6672.5664  ,  416.31976 ],\n",
       "        [ 135.44669 ,   99.96155 ,  209.94476 ,  334.39493 ,  384.37302 ,\n",
       "          227.37022 ,   82.85862 ,  198.54402 ,  353.9823  , 7310.5747  ],\n",
       "        [  83.57349 ,   92.2722  ,  287.29285 ,  270.70065 ,  365.46942 ,\n",
       "          210.2102  ,   67.32263 ,  244.87096 ,  353.9823  ,  266.44464 ],\n",
       "        [ 112.39193 , 2252.9795  ,  596.6851  ,  374.20386 ,  422.1802  ,\n",
       "          231.66023 ,   93.21595 ,  225.01656 ,  389.38055 ,  208.15988 ],\n",
       "        [  40.34582 ,   65.359474,  209.94476 , 6982.4844  ,  176.43352 ,\n",
       "          132.99013 ,   46.607975,  145.59895 ,  212.38939 ,  141.54872 ]],\n",
       "       dtype=float32)"
      ]
     },
     "execution_count": 12,
     "metadata": {},
     "output_type": "execute_result"
    }
   ],
   "source": [
    "np.transpose(batch_adataNormLin.X.todense())[:10,:10]"
   ]
  },
  {
   "cell_type": "code",
   "execution_count": 13,
   "metadata": {},
   "outputs": [],
   "source": [
    "n_clust=None\n",
    "n_init=100\n",
    "kfunc=\"kmeans\"\n",
    "maxneighbor=100\n",
    "seed=42\n",
    "keep_input=False"
   ]
  },
  {
   "cell_type": "code",
   "execution_count": 14,
   "metadata": {},
   "outputs": [],
   "source": [
    "clust_model = KMeans(n_clusters=nClust, n_init=n_init, random_state=seed, n_jobs=int(multiprocessing.cpu_count()*0.6))\n",
    "clusters = clust_model.fit_predict(batch_adata.X.todense())\n"
   ]
  },
  {
   "cell_type": "code",
   "execution_count": 15,
   "metadata": {},
   "outputs": [
    {
     "data": {
      "text/plain": [
       "array([8, 0, 0, ..., 6, 2, 5], dtype=int32)"
      ]
     },
     "execution_count": 15,
     "metadata": {},
     "output_type": "execute_result"
    }
   ],
   "source": [
    "clusters"
   ]
  },
  {
   "cell_type": "code",
   "execution_count": 16,
   "metadata": {},
   "outputs": [],
   "source": [
    "batch_adataNormLin.obs['batch_cluster'] = clusters\n",
    "batch_adata.obs['batch_cluster'] = clusters\n",
    "marker_dict = {batch_adataNormLin.var.keys()[0]: batch_adataNormLin.var['batch']} # for average expression of batch oligo"
   ]
  },
  {
   "cell_type": "code",
   "execution_count": 17,
   "metadata": {},
   "outputs": [],
   "source": [
    "def av_gene_expression(anndata, marker_dict, gene_symbol_key=None, partition_key='batch_cluster'):\n",
    "    \"\"\" Copied from https://github.com/theislab/scanpy/issues/181 - posted by one of scanpy developers\n",
    "    A function go get mean expressions of feature per cluster (class).\n",
    "    Data should be normalized to reads per cell, but kept in the linear scale\n",
    "    #\n",
    "    # Inputs:\n",
    "    #    anndata         - An AnnData object containing the data set and a partition\n",
    "    #    marker_dict     - A dictionary with cell-type markers. The markers should be stores as anndata.var_names or\n",
    "    #                      an anndata.var field with the key given by the gene_symbol_key input\n",
    "    #    gene_symbol_key - The key for the anndata.var field with gene IDs or names that correspond to the marker\n",
    "    #                      genes\n",
    "    #    partition_key   - The key for the anndata.obs field where the cluster IDs are stored. The default is\n",
    "    #                      'batch_cluster' \"\"\"\n",
    "\n",
    "    # Test inputs\n",
    "    if partition_key not in anndata.obs.columns.values:\n",
    "        print('KeyError: The partition key was not found in the passed AnnData object.')\n",
    "        print('   Have you done the clustering? If so, please tell pass the cluster IDs with the AnnData object!')\n",
    "        raise\n",
    "\n",
    "    if (gene_symbol_key != None) and (gene_symbol_key not in anndata.var.columns.values):\n",
    "        print('KeyError: The provided gene symbol key was not found in the passed AnnData object.')\n",
    "        print('   Check that your cell type markers are given in a format that your anndata object knows!')\n",
    "        raise\n",
    "\n",
    "    if gene_symbol_key:\n",
    "        gene_ids = anndata.var[gene_symbol_key]\n",
    "    else:\n",
    "        gene_ids = anndata.var_names\n",
    "\n",
    "    clusters = set(anndata.obs[partition_key])\n",
    "    n_clust = len(clusters)\n",
    "    marker_exp = pd.DataFrame(columns=clusters)\n",
    "    marker_exp['cell_type'] = pd.Series({}, dtype='str')\n",
    "    marker_names = []\n",
    "\n",
    "    i = 0\n",
    "    for group in marker_dict:\n",
    "        # Find the corresponding columns and get their mean expression in the cluster\n",
    "        for gene in marker_dict[group]:\n",
    "            ens_idx = np.in1d(gene_ids, gene)  # Note there may be multiple mappings\n",
    "            if np.sum(ens_idx) == 0:\n",
    "                continue\n",
    "            else:\n",
    "                anndata.obs[ens_idx[0]] = anndata.X[:, ens_idx].mean(1)  # works for both single and multiple mapping\n",
    "                ens_idx = ens_idx[0]\n",
    "\n",
    "            clust_marker_exp = anndata.obs.groupby(partition_key)[ens_idx].apply(np.mean).tolist()\n",
    "            clust_marker_exp.append(group)\n",
    "            marker_exp.loc[i] = clust_marker_exp\n",
    "            marker_names.append(gene)\n",
    "            i += 1\n",
    "\n",
    "    # Replace the rownames with informative gene symbols\n",
    "    marker_exp.index = marker_names\n",
    "\n",
    "    return (marker_exp)"
   ]
  },
  {
   "cell_type": "code",
   "execution_count": 18,
   "metadata": {},
   "outputs": [],
   "source": [
    "av_batch_expr = av_gene_expression(batch_adataNormLin, marker_dict, gene_symbol_key='batch', partition_key='batch_cluster').iloc[:,:-1]\n"
   ]
  },
  {
   "cell_type": "code",
   "execution_count": 19,
   "metadata": {},
   "outputs": [
    {
     "data": {
      "text/html": [
       "<div>\n",
       "<style scoped>\n",
       "    .dataframe tbody tr th:only-of-type {\n",
       "        vertical-align: middle;\n",
       "    }\n",
       "\n",
       "    .dataframe tbody tr th {\n",
       "        vertical-align: top;\n",
       "    }\n",
       "\n",
       "    .dataframe thead th {\n",
       "        text-align: right;\n",
       "    }\n",
       "</style>\n",
       "<table border=\"1\" class=\"dataframe\">\n",
       "  <thead>\n",
       "    <tr style=\"text-align: right;\">\n",
       "      <th></th>\n",
       "      <th>0</th>\n",
       "      <th>1</th>\n",
       "      <th>2</th>\n",
       "      <th>3</th>\n",
       "      <th>4</th>\n",
       "      <th>5</th>\n",
       "      <th>6</th>\n",
       "      <th>7</th>\n",
       "      <th>8</th>\n",
       "      <th>9</th>\n",
       "      <th>10</th>\n",
       "    </tr>\n",
       "  </thead>\n",
       "  <tbody>\n",
       "    <tr>\n",
       "      <th>barcode1</th>\n",
       "      <td>567.818542</td>\n",
       "      <td>572.584351</td>\n",
       "      <td>7315.345703</td>\n",
       "      <td>639.170044</td>\n",
       "      <td>658.644958</td>\n",
       "      <td>787.936829</td>\n",
       "      <td>605.862122</td>\n",
       "      <td>697.706055</td>\n",
       "      <td>589.658386</td>\n",
       "      <td>531.540161</td>\n",
       "      <td>661.398560</td>\n",
       "    </tr>\n",
       "    <tr>\n",
       "      <th>barcode2</th>\n",
       "      <td>403.712463</td>\n",
       "      <td>365.898895</td>\n",
       "      <td>290.131531</td>\n",
       "      <td>6800.398438</td>\n",
       "      <td>422.822815</td>\n",
       "      <td>596.413940</td>\n",
       "      <td>407.739563</td>\n",
       "      <td>495.559875</td>\n",
       "      <td>1104.090942</td>\n",
       "      <td>698.992920</td>\n",
       "      <td>419.424042</td>\n",
       "    </tr>\n",
       "    <tr>\n",
       "      <th>barcode3</th>\n",
       "      <td>420.233093</td>\n",
       "      <td>394.536194</td>\n",
       "      <td>290.510315</td>\n",
       "      <td>213.341904</td>\n",
       "      <td>455.183960</td>\n",
       "      <td>235.768478</td>\n",
       "      <td>403.912476</td>\n",
       "      <td>500.169617</td>\n",
       "      <td>6303.503906</td>\n",
       "      <td>3974.420166</td>\n",
       "      <td>429.824799</td>\n",
       "    </tr>\n",
       "    <tr>\n",
       "      <th>barcode4</th>\n",
       "      <td>344.225983</td>\n",
       "      <td>356.132782</td>\n",
       "      <td>276.558014</td>\n",
       "      <td>347.478546</td>\n",
       "      <td>375.094086</td>\n",
       "      <td>440.154449</td>\n",
       "      <td>307.389069</td>\n",
       "      <td>439.070221</td>\n",
       "      <td>297.071747</td>\n",
       "      <td>326.388702</td>\n",
       "      <td>6139.060547</td>\n",
       "    </tr>\n",
       "    <tr>\n",
       "      <th>barcode5</th>\n",
       "      <td>403.679169</td>\n",
       "      <td>498.221130</td>\n",
       "      <td>393.877869</td>\n",
       "      <td>388.606812</td>\n",
       "      <td>413.551941</td>\n",
       "      <td>455.359955</td>\n",
       "      <td>441.515778</td>\n",
       "      <td>5650.886719</td>\n",
       "      <td>342.454132</td>\n",
       "      <td>234.035233</td>\n",
       "      <td>500.947662</td>\n",
       "    </tr>\n",
       "    <tr>\n",
       "      <th>barcode6</th>\n",
       "      <td>6608.862305</td>\n",
       "      <td>466.997589</td>\n",
       "      <td>374.311523</td>\n",
       "      <td>424.749023</td>\n",
       "      <td>450.750336</td>\n",
       "      <td>534.868591</td>\n",
       "      <td>410.904938</td>\n",
       "      <td>589.120178</td>\n",
       "      <td>360.014984</td>\n",
       "      <td>387.104767</td>\n",
       "      <td>489.499237</td>\n",
       "    </tr>\n",
       "    <tr>\n",
       "      <th>barcode7</th>\n",
       "      <td>429.326477</td>\n",
       "      <td>476.588684</td>\n",
       "      <td>334.599670</td>\n",
       "      <td>390.385529</td>\n",
       "      <td>422.293457</td>\n",
       "      <td>503.745392</td>\n",
       "      <td>6622.096191</td>\n",
       "      <td>529.556091</td>\n",
       "      <td>341.681427</td>\n",
       "      <td>362.186218</td>\n",
       "      <td>476.267670</td>\n",
       "    </tr>\n",
       "    <tr>\n",
       "      <th>barcode8</th>\n",
       "      <td>281.824188</td>\n",
       "      <td>310.081482</td>\n",
       "      <td>230.907104</td>\n",
       "      <td>281.479584</td>\n",
       "      <td>6268.324707</td>\n",
       "      <td>489.236542</td>\n",
       "      <td>288.629822</td>\n",
       "      <td>405.205383</td>\n",
       "      <td>258.721405</td>\n",
       "      <td>341.998566</td>\n",
       "      <td>308.328491</td>\n",
       "    </tr>\n",
       "    <tr>\n",
       "      <th>barcode9</th>\n",
       "      <td>372.625031</td>\n",
       "      <td>6388.469238</td>\n",
       "      <td>365.356018</td>\n",
       "      <td>379.382019</td>\n",
       "      <td>377.483521</td>\n",
       "      <td>450.924530</td>\n",
       "      <td>347.987305</td>\n",
       "      <td>461.401001</td>\n",
       "      <td>317.568329</td>\n",
       "      <td>309.569763</td>\n",
       "      <td>407.279633</td>\n",
       "    </tr>\n",
       "    <tr>\n",
       "      <th>barcode10</th>\n",
       "      <td>167.693115</td>\n",
       "      <td>170.489334</td>\n",
       "      <td>128.402313</td>\n",
       "      <td>135.007675</td>\n",
       "      <td>155.850372</td>\n",
       "      <td>5505.591309</td>\n",
       "      <td>163.962204</td>\n",
       "      <td>231.324722</td>\n",
       "      <td>85.234772</td>\n",
       "      <td>2833.763428</td>\n",
       "      <td>167.969437</td>\n",
       "    </tr>\n",
       "  </tbody>\n",
       "</table>\n",
       "</div>"
      ],
      "text/plain": [
       "                    0            1            2            3            4   \\\n",
       "barcode1    567.818542   572.584351  7315.345703   639.170044   658.644958   \n",
       "barcode2    403.712463   365.898895   290.131531  6800.398438   422.822815   \n",
       "barcode3    420.233093   394.536194   290.510315   213.341904   455.183960   \n",
       "barcode4    344.225983   356.132782   276.558014   347.478546   375.094086   \n",
       "barcode5    403.679169   498.221130   393.877869   388.606812   413.551941   \n",
       "barcode6   6608.862305   466.997589   374.311523   424.749023   450.750336   \n",
       "barcode7    429.326477   476.588684   334.599670   390.385529   422.293457   \n",
       "barcode8    281.824188   310.081482   230.907104   281.479584  6268.324707   \n",
       "barcode9    372.625031  6388.469238   365.356018   379.382019   377.483521   \n",
       "barcode10   167.693115   170.489334   128.402313   135.007675   155.850372   \n",
       "\n",
       "                    5            6            7            8            9   \\\n",
       "barcode1    787.936829   605.862122   697.706055   589.658386   531.540161   \n",
       "barcode2    596.413940   407.739563   495.559875  1104.090942   698.992920   \n",
       "barcode3    235.768478   403.912476   500.169617  6303.503906  3974.420166   \n",
       "barcode4    440.154449   307.389069   439.070221   297.071747   326.388702   \n",
       "barcode5    455.359955   441.515778  5650.886719   342.454132   234.035233   \n",
       "barcode6    534.868591   410.904938   589.120178   360.014984   387.104767   \n",
       "barcode7    503.745392  6622.096191   529.556091   341.681427   362.186218   \n",
       "barcode8    489.236542   288.629822   405.205383   258.721405   341.998566   \n",
       "barcode9    450.924530   347.987305   461.401001   317.568329   309.569763   \n",
       "barcode10  5505.591309   163.962204   231.324722    85.234772  2833.763428   \n",
       "\n",
       "                    10  \n",
       "barcode1    661.398560  \n",
       "barcode2    419.424042  \n",
       "barcode3    429.824799  \n",
       "barcode4   6139.060547  \n",
       "barcode5    500.947662  \n",
       "barcode6    489.499237  \n",
       "barcode7    476.267670  \n",
       "barcode8    308.328491  \n",
       "barcode9    407.279633  \n",
       "barcode10   167.969437  "
      ]
     },
     "execution_count": 19,
     "metadata": {},
     "output_type": "execute_result"
    }
   ],
   "source": [
    "av_batch_expr"
   ]
  },
  {
   "cell_type": "code",
   "execution_count": 96,
   "metadata": {},
   "outputs": [
    {
     "name": "stderr",
     "output_type": "stream",
     "text": [
      "Transforming to str index.\n"
     ]
    }
   ],
   "source": [
    "discrete = anndata.AnnData(X=sparse.csr_matrix(np.zeros(batch_adata.shape)),\n",
    "                                   obs=adata.obs,\n",
    "                                   var=pd.DataFrame(batches, columns=['batch']))"
   ]
  },
  {
   "cell_type": "code",
   "execution_count": 97,
   "metadata": {},
   "outputs": [],
   "source": [
    "positiveQuantile=0.99"
   ]
  },
  {
   "cell_type": "code",
   "execution_count": 88,
   "metadata": {},
   "outputs": [
    {
     "name": "stdout",
     "output_type": "stream",
     "text": [
      "Cutoff for barcode1: 2623 reads\n",
      "Cutoff for barcode2: 972 reads\n",
      "Cutoff for barcode3: 657 reads\n",
      "Cutoff for barcode4: 1039 reads\n",
      "Cutoff for barcode5: 960 reads\n",
      "Cutoff for barcode6: 1478 reads\n",
      "Cutoff for barcode7: 1220 reads\n",
      "Cutoff for barcode8: 757 reads\n",
      "Cutoff for barcode9: 1317 reads\n",
      "Cutoff for barcode10: 258 reads\n"
     ]
    }
   ],
   "source": [
    "for batch_name in av_batch_expr.index:\n",
    "    values = batch_adata[:, batch_adata.var['batch'] == batch_name]\n",
    "    values_use = values[values.obs['batch_cluster'] == np.argmin(av_batch_expr.loc[batch_name, :])]\n",
    "    fitty = norm.fit(values_use.X.toarray())\n",
    "    cutoff = np.quantile(norm.rvs(loc=fitty[0], scale=fitty[1], size=1000, random_state=seed),\n",
    "                         q=positiveQuantile)\n",
    "\n",
    "    discrete.X[np.argwhere(values.X > cutoff),\n",
    "               int(values.var.index[0])] = 1\n",
    "    if verbose:\n",
    "        print(\"Cutoff for {}: {} reads\".format(batch_name,\n",
    "                                               int(np.expm1(cutoff))))"
   ]
  },
  {
   "cell_type": "code",
   "execution_count": 98,
   "metadata": {},
   "outputs": [
    {
     "name": "stdout",
     "output_type": "stream",
     "text": [
      "Cutoff for barcode1: 7.872768804164287 reads\n",
      "Cutoff for barcode2: 6.880468042649393 reads\n",
      "Cutoff for barcode3: 6.489564777889973 reads\n",
      "Cutoff for barcode4: 6.947577861394761 reads\n",
      "Cutoff for barcode5: 6.86825039612727 reads\n",
      "Cutoff for barcode6: 7.2996733293838565 reads\n",
      "Cutoff for barcode7: 7.10784933315582 reads\n",
      "Cutoff for barcode8: 6.631584305811582 reads\n",
      "Cutoff for barcode9: 7.183961893237171 reads\n",
      "Cutoff for barcode10: 5.560384990529353 reads\n"
     ]
    }
   ],
   "source": [
    "for batch_name in av_batch_expr.index:\n",
    "    values = batch_adata[:, batch_adata.var['batch'] == batch_name]\n",
    "    values_use = values[values.obs['batch_cluster'] == np.argmin(av_batch_expr.loc[batch_name, :])]\n",
    "    fitty = norm.fit(values_use.X.toarray())\n",
    "    cutoff = np.quantile(norm.rvs(loc=fitty[0], scale=fitty[1], size=1000, random_state=seed),\n",
    "                         q=positiveQuantile)\n",
    "    \n",
    "    ox = [x[0] for x in np.argwhere(values.X > cutoff)]\n",
    "\n",
    "    discrete.X[ox, int(values.var.index[0])] = 1\n",
    "    if verbose:\n",
    "        print(\"Cutoff for {}: {} reads\".format(batch_name,\n",
    "                                               int(np.expm1(cutoff))))"
   ]
  },
  {
   "cell_type": "code",
   "execution_count": 99,
   "metadata": {},
   "outputs": [],
   "source": [
    "n_positive = np.sum(discrete.X, axis=1)"
   ]
  },
  {
   "cell_type": "code",
   "execution_count": 111,
   "metadata": {},
   "outputs": [
    {
     "data": {
      "text/plain": [
       "<35371x1 sparse matrix of type '<class 'numpy.float32'>'\n",
       "\twith 35348 stored elements in Compressed Sparse Row format>"
      ]
     },
     "execution_count": 111,
     "metadata": {},
     "output_type": "execute_result"
    }
   ],
   "source": [
    "values.X"
   ]
  },
  {
   "cell_type": "code",
   "execution_count": 106,
   "metadata": {},
   "outputs": [
    {
     "data": {
      "text/plain": [
       "View of AnnData object with n_obs × n_vars = 6907 × 1 \n",
       "    var: 'batch'"
      ]
     },
     "execution_count": 106,
     "metadata": {},
     "output_type": "execute_result"
    }
   ],
   "source": [
    "discrete[np.argwhere(values.X > cutoff), int(values.var.index[0])]"
   ]
  },
  {
   "cell_type": "code",
   "execution_count": 100,
   "metadata": {},
   "outputs": [
    {
     "data": {
      "text/plain": [
       "matrix([[10.],\n",
       "        [ 3.],\n",
       "        [ 2.],\n",
       "        ...,\n",
       "        [ 2.],\n",
       "        [ 1.],\n",
       "        [ 1.]], dtype=float32)"
      ]
     },
     "execution_count": 100,
     "metadata": {},
     "output_type": "execute_result"
    }
   ],
   "source": [
    "n_positive"
   ]
  },
  {
   "cell_type": "code",
   "execution_count": 93,
   "metadata": {},
   "outputs": [
    {
     "data": {
      "text/html": [
       "<div>\n",
       "<style scoped>\n",
       "    .dataframe tbody tr th:only-of-type {\n",
       "        vertical-align: middle;\n",
       "    }\n",
       "\n",
       "    .dataframe tbody tr th {\n",
       "        vertical-align: top;\n",
       "    }\n",
       "\n",
       "    .dataframe thead th {\n",
       "        text-align: right;\n",
       "    }\n",
       "</style>\n",
       "<table border=\"1\" class=\"dataframe\">\n",
       "  <thead>\n",
       "    <tr style=\"text-align: right;\">\n",
       "      <th></th>\n",
       "      <th>n_counts</th>\n",
       "      <th>batch_cluster</th>\n",
       "    </tr>\n",
       "  </thead>\n",
       "  <tbody>\n",
       "    <tr>\n",
       "      <th>AAACCCAAGAAGTCTA-1</th>\n",
       "      <td>3470.0</td>\n",
       "      <td>8</td>\n",
       "    </tr>\n",
       "  </tbody>\n",
       "</table>\n",
       "</div>"
      ],
      "text/plain": [
       "                    n_counts  batch_cluster\n",
       "AAACCCAAGAAGTCTA-1    3470.0              8"
      ]
     },
     "execution_count": 93,
     "metadata": {},
     "output_type": "execute_result"
    }
   ],
   "source": [
    "batch_adata[0,:].obs"
   ]
  },
  {
   "cell_type": "code",
   "execution_count": 92,
   "metadata": {},
   "outputs": [
    {
     "data": {
      "text/plain": [
       "array([[4.7559476, 8.157093 , 8.638797 , 4.4029517, 5.238142 , 4.73085  ,\n",
       "        4.915934 , 4.4376206, 4.73085  , 3.7219713]], dtype=float32)"
      ]
     },
     "execution_count": 92,
     "metadata": {},
     "output_type": "execute_result"
    }
   ],
   "source": [
    "batch_adata[0,:].X.toarray()"
   ]
  },
  {
   "cell_type": "code",
   "execution_count": 31,
   "metadata": {},
   "outputs": [
    {
     "name": "stdout",
     "output_type": "stream",
     "text": [
      "barcode1\n",
      "(7065, 1)\n",
      "6\n",
      "barcode2\n",
      "(3967, 1)\n",
      "0\n",
      "barcode3\n",
      "(3645, 1)\n",
      "4\n",
      "barcode4\n",
      "(14, 1)\n",
      "8\n",
      "barcode5\n",
      "(13, 1)\n",
      "10\n",
      "barcode6\n",
      "(4622, 1)\n",
      "5\n",
      "barcode7\n",
      "(13, 1)\n",
      "10\n",
      "barcode8\n",
      "(4622, 1)\n",
      "5\n",
      "barcode9\n",
      "(4622, 1)\n",
      "5\n",
      "barcode10\n",
      "(21, 1)\n",
      "7\n"
     ]
    }
   ],
   "source": [
    "for i in range(av_batch_expr.shape[0]):\n",
    "    batch_name = av_batch_expr.index[i]\n",
    "    values = batch_adata[:,batch_adata.var['batch'] == batch_name]\n",
    "    print(batch_name)\n",
    "    print(values[values.obs['batch_cluster'] == np.argmin(av_batch_expr.loc[batch_name,:])].shape)\n",
    "    print(np.argmin(av_batch_expr.loc[batch_name,:]))"
   ]
  },
  {
   "cell_type": "code",
   "execution_count": 118,
   "metadata": {},
   "outputs": [
    {
     "name": "stderr",
     "output_type": "stream",
     "text": [
      "/Users/antonogorodnikov/anaconda3/envs/scito/lib/python3.8/site-packages/anndata/core/anndata.py:846: FutureWarning: In anndata v0.7+, arrays contained within an AnnData object will maintain their dimensionality. For example, prior to v0.7 `adata[0, 0].X` returned a scalar and `adata[0, :]` returned a 1d array, post v0.7 they will return two dimensional arrays. If you would like to get a one dimensional array from your AnnData object, consider using the `adata.obs_vector`, `adata.var_vector` methods or accessing the array directly.\n",
      "  warn_flatten()\n",
      "/Users/antonogorodnikov/anaconda3/envs/scito/lib/python3.8/site-packages/anndata/core/anndata.py:846: FutureWarning: In anndata v0.7+, arrays contained within an AnnData object will maintain their dimensionality. For example, prior to v0.7 `adata[0, 0].X` returned a scalar and `adata[0, :]` returned a 1d array, post v0.7 they will return two dimensional arrays. If you would like to get a one dimensional array from your AnnData object, consider using the `adata.obs_vector`, `adata.var_vector` methods or accessing the array directly.\n",
      "  warn_flatten()\n",
      "/Users/antonogorodnikov/anaconda3/envs/scito/lib/python3.8/site-packages/anndata/core/anndata.py:846: FutureWarning: In anndata v0.7+, arrays contained within an AnnData object will maintain their dimensionality. For example, prior to v0.7 `adata[0, 0].X` returned a scalar and `adata[0, :]` returned a 1d array, post v0.7 they will return two dimensional arrays. If you would like to get a one dimensional array from your AnnData object, consider using the `adata.obs_vector`, `adata.var_vector` methods or accessing the array directly.\n",
      "  warn_flatten()\n",
      "/Users/antonogorodnikov/anaconda3/envs/scito/lib/python3.8/site-packages/anndata/core/anndata.py:846: FutureWarning: In anndata v0.7+, arrays contained within an AnnData object will maintain their dimensionality. For example, prior to v0.7 `adata[0, 0].X` returned a scalar and `adata[0, :]` returned a 1d array, post v0.7 they will return two dimensional arrays. If you would like to get a one dimensional array from your AnnData object, consider using the `adata.obs_vector`, `adata.var_vector` methods or accessing the array directly.\n",
      "  warn_flatten()\n",
      "/Users/antonogorodnikov/anaconda3/envs/scito/lib/python3.8/site-packages/anndata/core/anndata.py:846: FutureWarning: In anndata v0.7+, arrays contained within an AnnData object will maintain their dimensionality. For example, prior to v0.7 `adata[0, 0].X` returned a scalar and `adata[0, :]` returned a 1d array, post v0.7 they will return two dimensional arrays. If you would like to get a one dimensional array from your AnnData object, consider using the `adata.obs_vector`, `adata.var_vector` methods or accessing the array directly.\n",
      "  warn_flatten()\n",
      "/Users/antonogorodnikov/anaconda3/envs/scito/lib/python3.8/site-packages/anndata/core/anndata.py:846: FutureWarning: In anndata v0.7+, arrays contained within an AnnData object will maintain their dimensionality. For example, prior to v0.7 `adata[0, 0].X` returned a scalar and `adata[0, :]` returned a 1d array, post v0.7 they will return two dimensional arrays. If you would like to get a one dimensional array from your AnnData object, consider using the `adata.obs_vector`, `adata.var_vector` methods or accessing the array directly.\n",
      "  warn_flatten()\n",
      "/Users/antonogorodnikov/anaconda3/envs/scito/lib/python3.8/site-packages/anndata/core/anndata.py:846: FutureWarning: In anndata v0.7+, arrays contained within an AnnData object will maintain their dimensionality. For example, prior to v0.7 `adata[0, 0].X` returned a scalar and `adata[0, :]` returned a 1d array, post v0.7 they will return two dimensional arrays. If you would like to get a one dimensional array from your AnnData object, consider using the `adata.obs_vector`, `adata.var_vector` methods or accessing the array directly.\n",
      "  warn_flatten()\n",
      "/Users/antonogorodnikov/anaconda3/envs/scito/lib/python3.8/site-packages/anndata/core/anndata.py:846: FutureWarning: In anndata v0.7+, arrays contained within an AnnData object will maintain their dimensionality. For example, prior to v0.7 `adata[0, 0].X` returned a scalar and `adata[0, :]` returned a 1d array, post v0.7 they will return two dimensional arrays. If you would like to get a one dimensional array from your AnnData object, consider using the `adata.obs_vector`, `adata.var_vector` methods or accessing the array directly.\n",
      "  warn_flatten()\n",
      "/Users/antonogorodnikov/anaconda3/envs/scito/lib/python3.8/site-packages/anndata/core/anndata.py:846: FutureWarning: In anndata v0.7+, arrays contained within an AnnData object will maintain their dimensionality. For example, prior to v0.7 `adata[0, 0].X` returned a scalar and `adata[0, :]` returned a 1d array, post v0.7 they will return two dimensional arrays. If you would like to get a one dimensional array from your AnnData object, consider using the `adata.obs_vector`, `adata.var_vector` methods or accessing the array directly.\n",
      "  warn_flatten()\n"
     ]
    },
    {
     "data": {
      "image/png": "[encoded data removed]",
      "text/plain": [
       "<Figure size 432x288 with 1 Axes>"
      ]
     },
     "metadata": {
      "needs_background": "light"
     },
     "output_type": "display_data"
    }
   ],
   "source": [
    "for i in range(av_batch_expr.shape[0]):\n",
    "    batch_name = av_batch_expr.index[i]\n",
    "    values = batch_adata[:,batch_adata.var['batch'] == batch_name]\n",
    "    values_use = values[values.obs['batch_cluster'] == np.argmin(av_batch_expr.loc[batch_name,:])]\n",
    "    sns.distplot(values_use.X)"
   ]
  },
  {
   "cell_type": "code",
   "execution_count": 24,
   "metadata": {},
   "outputs": [],
   "source": [
    "batch_adata.obs['batch_cluster'] = clusters"
   ]
  },
  {
   "cell_type": "code",
   "execution_count": 105,
   "metadata": {},
   "outputs": [
    {
     "data": {
      "text/plain": [
       "<matplotlib.axes._subplots.AxesSubplot at 0x1404fe820>"
      ]
     },
     "execution_count": 105,
     "metadata": {},
     "output_type": "execute_result"
    },
    {
     "data": {
      "image/png": "[encoded data removed]",
      "text/plain": [
       "<Figure size 432x288 with 1 Axes>"
      ]
     },
     "metadata": {
      "needs_background": "light"
     },
     "output_type": "display_data"
    }
   ],
   "source": [
    "i=0\n",
    "batch_name = av_batch_expr.index[i]\n",
    "values = batch_adata[:,batch_adata.var['batch'] == batch_name]\n",
    "values_use = values[values.obs['batch_cluster'] == np.argmin(av_batch_expr.loc[batch_name,:])]\n",
    "sns.distplot(values_use.X)"
   ]
  },
  {
   "cell_type": "code",
   "execution_count": 31,
   "metadata": {},
   "outputs": [
    {
     "data": {
      "text/html": [
       "<div>\n",
       "<style scoped>\n",
       "    .dataframe tbody tr th:only-of-type {\n",
       "        vertical-align: middle;\n",
       "    }\n",
       "\n",
       "    .dataframe tbody tr th {\n",
       "        vertical-align: top;\n",
       "    }\n",
       "\n",
       "    .dataframe thead th {\n",
       "        text-align: right;\n",
       "    }\n",
       "</style>\n",
       "<table border=\"1\" class=\"dataframe\">\n",
       "  <thead>\n",
       "    <tr style=\"text-align: right;\">\n",
       "      <th></th>\n",
       "      <th>batch</th>\n",
       "    </tr>\n",
       "  </thead>\n",
       "  <tbody>\n",
       "    <tr>\n",
       "      <th>0</th>\n",
       "      <td>barcode1</td>\n",
       "    </tr>\n",
       "    <tr>\n",
       "      <th>1</th>\n",
       "      <td>barcode2</td>\n",
       "    </tr>\n",
       "    <tr>\n",
       "      <th>2</th>\n",
       "      <td>barcode3</td>\n",
       "    </tr>\n",
       "    <tr>\n",
       "      <th>3</th>\n",
       "      <td>barcode4</td>\n",
       "    </tr>\n",
       "    <tr>\n",
       "      <th>4</th>\n",
       "      <td>barcode5</td>\n",
       "    </tr>\n",
       "    <tr>\n",
       "      <th>5</th>\n",
       "      <td>barcode6</td>\n",
       "    </tr>\n",
       "    <tr>\n",
       "      <th>6</th>\n",
       "      <td>barcode7</td>\n",
       "    </tr>\n",
       "    <tr>\n",
       "      <th>7</th>\n",
       "      <td>barcode8</td>\n",
       "    </tr>\n",
       "    <tr>\n",
       "      <th>8</th>\n",
       "      <td>barcode9</td>\n",
       "    </tr>\n",
       "    <tr>\n",
       "      <th>9</th>\n",
       "      <td>barcode10</td>\n",
       "    </tr>\n",
       "  </tbody>\n",
       "</table>\n",
       "</div>"
      ],
      "text/plain": [
       "       batch\n",
       "0   barcode1\n",
       "1   barcode2\n",
       "2   barcode3\n",
       "3   barcode4\n",
       "4   barcode5\n",
       "5   barcode6\n",
       "6   barcode7\n",
       "7   barcode8\n",
       "8   barcode9\n",
       "9  barcode10"
      ]
     },
     "execution_count": 31,
     "metadata": {},
     "output_type": "execute_result"
    }
   ],
   "source": [
    "batch_adata.var"
   ]
  },
  {
   "cell_type": "code",
   "execution_count": 50,
   "metadata": {},
   "outputs": [
    {
     "name": "stderr",
     "output_type": "stream",
     "text": [
      "Transforming to str index.\n"
     ]
    }
   ],
   "source": [
    "discrete = anndata.AnnData(X=sparse.csr_matrix(np.zeros(batch_adata.shape)),\n",
    "                                   obs=adata.obs,\n",
    "                                   var=pd.DataFrame(batches, columns=['batch']))"
   ]
  },
  {
   "cell_type": "code",
   "execution_count": 51,
   "metadata": {},
   "outputs": [
    {
     "name": "stdout",
     "output_type": "stream",
     "text": [
      "Cutoff for barcode8: 757 reads\n"
     ]
    },
    {
     "name": "stderr",
     "output_type": "stream",
     "text": [
      "/Users/antonogorodnikov/anaconda3/envs/test2/lib/python3.7/site-packages/scipy/sparse/_index.py:126: SparseEfficiencyWarning: Changing the sparsity structure of a csr_matrix is expensive. lil_matrix is more efficient.\n",
      "  self._set_arrayXarray(i, j, x)\n"
     ]
    }
   ],
   "source": [
    "batch_name = 'barcode8'\n",
    "values = batch_adata[:, batch_adata.var['batch'] == batch_name]\n",
    "values_use = values[values.obs['batch_cluster'] == np.argmin(av_batch_expr.loc[batch_name, :])]\n",
    "fitty = norm.fit(values_use.X.toarray())\n",
    "cutoff = np.quantile(norm.rvs(loc=fitty[0], scale=fitty[1], size=1000, random_state=seed),\n",
    "                     q=positiveQuantile)\n",
    "\n",
    "discrete.X[np.argwhere(values.X > cutoff),\n",
    "           int(values.var.index[0])] = 1\n",
    "if verbose:\n",
    "    print(\"Cutoff for {}: {} reads\".format(batch_name,\n",
    "                                           int(np.expm1(cutoff))))"
   ]
  },
  {
   "cell_type": "code",
   "execution_count": 59,
   "metadata": {},
   "outputs": [
    {
     "data": {
      "text/plain": [
       "array([[False],\n",
       "       [False],\n",
       "       [False],\n",
       "       ...,\n",
       "       [False],\n",
       "       [False],\n",
       "       [False]])"
      ]
     },
     "execution_count": 59,
     "metadata": {},
     "output_type": "execute_result"
    }
   ],
   "source": [
    "(values.X > cutoff).toarray()"
   ]
  },
  {
   "cell_type": "code",
   "execution_count": 53,
   "metadata": {},
   "outputs": [
    {
     "data": {
      "text/plain": [
       "array([[1.],\n",
       "       [1.],\n",
       "       [1.],\n",
       "       ...,\n",
       "       [1.],\n",
       "       [1.],\n",
       "       [1.]], dtype=float32)"
      ]
     },
     "execution_count": 53,
     "metadata": {},
     "output_type": "execute_result"
    }
   ],
   "source": [
    "discrete.X[np.argwhere(values.X > cutoff),7].toarray()"
   ]
  },
  {
   "cell_type": "code",
   "execution_count": 44,
   "metadata": {},
   "outputs": [
    {
     "data": {
      "text/plain": [
       "7"
      ]
     },
     "execution_count": 44,
     "metadata": {},
     "output_type": "execute_result"
    }
   ],
   "source": [
    "int(values.var.index[0])"
   ]
  },
  {
   "cell_type": "code",
   "execution_count": 33,
   "metadata": {},
   "outputs": [],
   "source": [
    "n_positive = np.sum(discrete.X, axis=1)"
   ]
  },
  {
   "cell_type": "code",
   "execution_count": 34,
   "metadata": {},
   "outputs": [
    {
     "data": {
      "text/plain": [
       "matrix([[10.],\n",
       "        [ 3.],\n",
       "        [ 2.],\n",
       "        ...,\n",
       "        [ 2.],\n",
       "        [ 1.],\n",
       "        [ 1.]], dtype=float32)"
      ]
     },
     "execution_count": 34,
     "metadata": {},
     "output_type": "execute_result"
    }
   ],
   "source": [
    "n_positive"
   ]
  },
  {
   "cell_type": "code",
   "execution_count": 24,
   "metadata": {},
   "outputs": [
    {
     "name": "stderr",
     "output_type": "stream",
     "text": [
      "Transforming to str index.\n"
     ]
    }
   ],
   "source": [
    "discrete = anndata.AnnData(X=sparse.csr_matrix(np.zeros(batch_adata.shape)),\n",
    "                                   obs=adata.obs,\n",
    "                                   var=pd.DataFrame(batches, columns=['batch']))"
   ]
  },
  {
   "cell_type": "code",
   "execution_count": 28,
   "metadata": {},
   "outputs": [],
   "source": [
    "def drop_assigner(x):\n",
    "    '''\n",
    "    Assigns droplet to be empty (\"NEG\"), singlet (\"SNG\") or multiplet (\"MTP\"). Accepts numeric values\n",
    "    :param x: numeric value - number of batches detected above the threshold for this droplet\n",
    "    :return: Assignment for a droplet\n",
    "    '''\n",
    "    if x == 0:\n",
    "        res = \"NEG\"\n",
    "    elif x == 1:\n",
    "        res = \"SNG\"\n",
    "    elif x > 1:\n",
    "        res = \"MTP\"\n",
    "    else:\n",
    "        assert (x >= 0), \"ERROR: wrong assignment\"\n",
    "\n",
    "    return res"
   ]
  },
  {
   "cell_type": "code",
   "execution_count": 93,
   "metadata": {},
   "outputs": [],
   "source": [
    "def drop_identifier(a, n_top, bc_ids):\n",
    "    '''\n",
    "    Function to get the batch ID and barcode expression of the best guesses\n",
    "    :param a: array or list of barcode expression values per cell\n",
    "    :param n_top: number of top assignments to return - depends on how many cells are detected per multiplet\n",
    "    :param bc_ids: adata.var with batch name\n",
    "    :return: dictionary:\n",
    "                \"barcodes\" - barcode IDs for best guesses in order of descending expression values\n",
    "                \"expression\" - expression values in same order as barcode IDs\n",
    "    '''\n",
    "    a = a.toarray()[0].tolist()\n",
    "    a = [round(x, 2) for x in a]\n",
    "    bc_ids = bc_ids.tolist()\n",
    "    a_ord, bc_ids_ord = zip(*sorted(zip(a, bc_ids), reverse=True))\n",
    "\n",
    "    top_a = a_ord[:n_top]\n",
    "    top_bc = bc_ids_ord[:n_top]\n",
    "\n",
    "    results = {\"barcodes\": top_bc,\n",
    "               \"expression\": top_a}\n",
    "\n",
    "    return results\n",
    "\n"
   ]
  },
  {
   "cell_type": "code",
   "execution_count": null,
   "metadata": {},
   "outputs": [],
   "source": []
  },
  {
   "cell_type": "code",
   "execution_count": 94,
   "metadata": {},
   "outputs": [],
   "source": [
    "n_positive = np.sum(discrete.X, axis=1)\n",
    "assignment = [drop_assigner(int(x)) for x in n_positive]\n",
    "batch_adata.obs['assignment'] = assignment"
   ]
  },
  {
   "cell_type": "code",
   "execution_count": 95,
   "metadata": {},
   "outputs": [
    {
     "data": {
      "text/plain": [
       "35371"
      ]
     },
     "execution_count": 95,
     "metadata": {},
     "output_type": "execute_result"
    }
   ],
   "source": [
    "batch_adata.n_obs"
   ]
  },
  {
   "cell_type": "code",
   "execution_count": 111,
   "metadata": {},
   "outputs": [
    {
     "data": {
      "text/plain": [
       "0"
      ]
     },
     "execution_count": 111,
     "metadata": {},
     "output_type": "execute_result"
    }
   ],
   "source": [
    "sum(n_positive == 0).tolist()[0][0]"
   ]
  },
  {
   "cell_type": "code",
   "execution_count": 113,
   "metadata": {},
   "outputs": [],
   "source": [
    "n_cells_atlevel = [sum(n_positive == i).tolist()[0][0] for i in range(0,7)]"
   ]
  },
  {
   "cell_type": "code",
   "execution_count": 121,
   "metadata": {},
   "outputs": [
    {
     "data": {
      "image/png": "[encoded data removed]",
      "text/plain": [
       "<Figure size 432x288 with 1 Axes>"
      ]
     },
     "metadata": {
      "needs_background": "light"
     },
     "output_type": "display_data"
    }
   ],
   "source": [
    "lol = sns.barplot(x=list(range(0,7)), y=n_cells_atlevel)"
   ]
  },
  {
   "cell_type": "code",
   "execution_count": 127,
   "metadata": {},
   "outputs": [],
   "source": [
    "plt.show(lol)"
   ]
  },
  {
   "cell_type": "code",
   "execution_count": 96,
   "metadata": {},
   "outputs": [
    {
     "data": {
      "text/plain": [
       "<matplotlib.axes._subplots.AxesSubplot at 0x13c5f7be0>"
      ]
     },
     "execution_count": 96,
     "metadata": {},
     "output_type": "execute_result"
    },
    {
     "data": {
      "image/png": "[encoded data removed]",
      "text/plain": [
       "<Figure size 432x288 with 1 Axes>"
      ]
     },
     "metadata": {
      "needs_background": "light"
     },
     "output_type": "display_data"
    }
   ],
   "source": [
    "sns.distplot(n_positive)"
   ]
  },
  {
   "cell_type": "code",
   "execution_count": 109,
   "metadata": {},
   "outputs": [
    {
     "data": {
      "text/plain": [
       "[35371, 17471, 4276, 566, 43, 3, 0]"
      ]
     },
     "execution_count": 109,
     "metadata": {},
     "output_type": "execute_result"
    }
   ],
   "source": [
    "[sum(n_positive > i).tolist()[0][0] for i in range(0,7)]"
   ]
  },
  {
   "cell_type": "code",
   "execution_count": 98,
   "metadata": {},
   "outputs": [
    {
     "data": {
      "text/plain": [
       "scipy.sparse.csr.csr_matrix"
      ]
     },
     "execution_count": 98,
     "metadata": {},
     "output_type": "execute_result"
    }
   ],
   "source": [
    "type(adata.X[:,0])"
   ]
  },
  {
   "cell_type": "code",
   "execution_count": 99,
   "metadata": {},
   "outputs": [
    {
     "data": {
      "text/plain": [
       "<35371x1 sparse matrix of type '<class 'numpy.float32'>'\n",
       "\twith 35367 stored elements in Compressed Sparse Row format>"
      ]
     },
     "execution_count": 99,
     "metadata": {},
     "output_type": "execute_result"
    }
   ],
   "source": [
    "batch_adata.X[:,0]"
   ]
  },
  {
   "cell_type": "code",
   "execution_count": 100,
   "metadata": {},
   "outputs": [],
   "source": [
    "best = [drop_identifier(a=batch_adata.X[x,:],\n",
    "                              n_top=int(n_positive[x]),\n",
    "                              bc_ids=batch_adata.var['batch'])\n",
    "              for x in range(batch_adata.n_obs)]"
   ]
  },
  {
   "cell_type": "code",
   "execution_count": 101,
   "metadata": {},
   "outputs": [],
   "source": [
    "best_guess = [x['barcodes'] for x in best]\n",
    "best_exp = [x['expression'] for x in best]"
   ]
  },
  {
   "cell_type": "code",
   "execution_count": 102,
   "metadata": {},
   "outputs": [],
   "source": [
    "batch_adata.obs['best_guess'] = best_guess\n",
    "batch_adata.obs['expression'] = best_exp"
   ]
  },
  {
   "cell_type": "code",
   "execution_count": 103,
   "metadata": {},
   "outputs": [
    {
     "data": {
      "text/html": [
       "<div>\n",
       "<style scoped>\n",
       "    .dataframe tbody tr th:only-of-type {\n",
       "        vertical-align: middle;\n",
       "    }\n",
       "\n",
       "    .dataframe tbody tr th {\n",
       "        vertical-align: top;\n",
       "    }\n",
       "\n",
       "    .dataframe thead th {\n",
       "        text-align: right;\n",
       "    }\n",
       "</style>\n",
       "<table border=\"1\" class=\"dataframe\">\n",
       "  <thead>\n",
       "    <tr style=\"text-align: right;\">\n",
       "      <th></th>\n",
       "      <th>n_counts</th>\n",
       "      <th>batch_cluster</th>\n",
       "      <th>assignment</th>\n",
       "      <th>best_guess</th>\n",
       "      <th>expression</th>\n",
       "    </tr>\n",
       "  </thead>\n",
       "  <tbody>\n",
       "    <tr>\n",
       "      <th>AAACCCAAGAAGTCTA-1</th>\n",
       "      <td>3470.0</td>\n",
       "      <td>8</td>\n",
       "      <td>MTP</td>\n",
       "      <td>(barcode3, barcode2)</td>\n",
       "      <td>(8.64, 8.16)</td>\n",
       "    </tr>\n",
       "    <tr>\n",
       "      <th>AAACCCAAGAGGTCGT-1</th>\n",
       "      <td>2601.0</td>\n",
       "      <td>0</td>\n",
       "      <td>MTP</td>\n",
       "      <td>(barcode6, barcode9, barcode4)</td>\n",
       "      <td>(8.46, 7.72, 7.69)</td>\n",
       "    </tr>\n",
       "    <tr>\n",
       "      <th>AAACCCAAGCATCCTA-1</th>\n",
       "      <td>905.0</td>\n",
       "      <td>0</td>\n",
       "      <td>MTP</td>\n",
       "      <td>(barcode6, barcode3)</td>\n",
       "      <td>(8.82, 6.53)</td>\n",
       "    </tr>\n",
       "    <tr>\n",
       "      <th>AAACCCAAGCATTGAA-1</th>\n",
       "      <td>1256.0</td>\n",
       "      <td>5</td>\n",
       "      <td>SNG</td>\n",
       "      <td>(barcode10,)</td>\n",
       "      <td>(8.85,)</td>\n",
       "    </tr>\n",
       "    <tr>\n",
       "      <th>AAACCCAAGGAAGTGA-1</th>\n",
       "      <td>1587.0</td>\n",
       "      <td>7</td>\n",
       "      <td>MTP</td>\n",
       "      <td>(barcode5, barcode6)</td>\n",
       "      <td>(8.39, 7.93)</td>\n",
       "    </tr>\n",
       "    <tr>\n",
       "      <th>...</th>\n",
       "      <td>...</td>\n",
       "      <td>...</td>\n",
       "      <td>...</td>\n",
       "      <td>...</td>\n",
       "      <td>...</td>\n",
       "    </tr>\n",
       "    <tr>\n",
       "      <th>TTTGTTGTCCATTTGT-1</th>\n",
       "      <td>727.0</td>\n",
       "      <td>7</td>\n",
       "      <td>SNG</td>\n",
       "      <td>(barcode5,)</td>\n",
       "      <td>(8.67,)</td>\n",
       "    </tr>\n",
       "    <tr>\n",
       "      <th>TTTGTTGTCCCAACTC-1</th>\n",
       "      <td>1541.0</td>\n",
       "      <td>6</td>\n",
       "      <td>SNG</td>\n",
       "      <td>(barcode7,)</td>\n",
       "      <td>(8.87,)</td>\n",
       "    </tr>\n",
       "    <tr>\n",
       "      <th>TTTGTTGTCCGAGGCT-1</th>\n",
       "      <td>1611.0</td>\n",
       "      <td>6</td>\n",
       "      <td>MTP</td>\n",
       "      <td>(barcode1, barcode7)</td>\n",
       "      <td>(8.5, 8.21)</td>\n",
       "    </tr>\n",
       "    <tr>\n",
       "      <th>TTTGTTGTCGTTCGCT-1</th>\n",
       "      <td>1016.0</td>\n",
       "      <td>2</td>\n",
       "      <td>SNG</td>\n",
       "      <td>(barcode1,)</td>\n",
       "      <td>(8.96,)</td>\n",
       "    </tr>\n",
       "    <tr>\n",
       "      <th>TTTGTTGTCTACCCAC-1</th>\n",
       "      <td>1334.0</td>\n",
       "      <td>5</td>\n",
       "      <td>SNG</td>\n",
       "      <td>(barcode10,)</td>\n",
       "      <td>(8.93,)</td>\n",
       "    </tr>\n",
       "  </tbody>\n",
       "</table>\n",
       "<p>35371 rows × 5 columns</p>\n",
       "</div>"
      ],
      "text/plain": [
       "                    n_counts  batch_cluster assignment  \\\n",
       "AAACCCAAGAAGTCTA-1    3470.0              8        MTP   \n",
       "AAACCCAAGAGGTCGT-1    2601.0              0        MTP   \n",
       "AAACCCAAGCATCCTA-1     905.0              0        MTP   \n",
       "AAACCCAAGCATTGAA-1    1256.0              5        SNG   \n",
       "AAACCCAAGGAAGTGA-1    1587.0              7        MTP   \n",
       "...                      ...            ...        ...   \n",
       "TTTGTTGTCCATTTGT-1     727.0              7        SNG   \n",
       "TTTGTTGTCCCAACTC-1    1541.0              6        SNG   \n",
       "TTTGTTGTCCGAGGCT-1    1611.0              6        MTP   \n",
       "TTTGTTGTCGTTCGCT-1    1016.0              2        SNG   \n",
       "TTTGTTGTCTACCCAC-1    1334.0              5        SNG   \n",
       "\n",
       "                                        best_guess          expression  \n",
       "AAACCCAAGAAGTCTA-1            (barcode3, barcode2)        (8.64, 8.16)  \n",
       "AAACCCAAGAGGTCGT-1  (barcode6, barcode9, barcode4)  (8.46, 7.72, 7.69)  \n",
       "AAACCCAAGCATCCTA-1            (barcode6, barcode3)        (8.82, 6.53)  \n",
       "AAACCCAAGCATTGAA-1                    (barcode10,)             (8.85,)  \n",
       "AAACCCAAGGAAGTGA-1            (barcode5, barcode6)        (8.39, 7.93)  \n",
       "...                                            ...                 ...  \n",
       "TTTGTTGTCCATTTGT-1                     (barcode5,)             (8.67,)  \n",
       "TTTGTTGTCCCAACTC-1                     (barcode7,)             (8.87,)  \n",
       "TTTGTTGTCCGAGGCT-1            (barcode1, barcode7)         (8.5, 8.21)  \n",
       "TTTGTTGTCGTTCGCT-1                     (barcode1,)             (8.96,)  \n",
       "TTTGTTGTCTACCCAC-1                    (barcode10,)             (8.93,)  \n",
       "\n",
       "[35371 rows x 5 columns]"
      ]
     },
     "execution_count": 103,
     "metadata": {},
     "output_type": "execute_result"
    }
   ],
   "source": [
    "batch_adata.obs"
   ]
  },
  {
   "cell_type": "code",
   "execution_count": 398,
   "metadata": {},
   "outputs": [],
   "source": [
    "a = batch_adata.X[0,:].toarray()[0].tolist()\n",
    "bc_ids = batch_adata.var['batch'].tolist()"
   ]
  },
  {
   "cell_type": "code",
   "execution_count": 408,
   "metadata": {},
   "outputs": [],
   "source": [
    "a_ord, bc_ids_ord = zip(*sorted(zip(a, bc_ids), reverse=True))"
   ]
  },
  {
   "cell_type": "code",
   "execution_count": 413,
   "metadata": {},
   "outputs": [
    {
     "data": {
      "text/plain": [
       "(8.63879680633545, 8.157093048095703)"
      ]
     },
     "execution_count": 413,
     "metadata": {},
     "output_type": "execute_result"
    }
   ],
   "source": [
    "a_ord[:2]"
   ]
  },
  {
   "cell_type": "code",
   "execution_count": 381,
   "metadata": {},
   "outputs": [
    {
     "data": {
      "text/plain": [
       "['barcode1',\n",
       " 'barcode2',\n",
       " 'barcode3',\n",
       " 'barcode4',\n",
       " 'barcode5',\n",
       " 'barcode6',\n",
       " 'barcode7',\n",
       " 'barcode8',\n",
       " 'barcode9',\n",
       " 'barcode10']"
      ]
     },
     "execution_count": 381,
     "metadata": {},
     "output_type": "execute_result"
    }
   ],
   "source": [
    "batch_adata.var['batch'].tolist()"
   ]
  },
  {
   "cell_type": "code",
   "execution_count": null,
   "metadata": {},
   "outputs": [],
   "source": []
  }
 ],
 "metadata": {
  "kernelspec": {
   "display_name": "Python 3",
   "language": "python",
   "name": "python3"
  },
  "language_info": {
   "codemirror_mode": {
    "name": "ipython",
    "version": 3
   },
   "file_extension": ".py",
   "mimetype": "text/x-python",
   "name": "python",
   "nbconvert_exporter": "python",
   "pygments_lexer": "ipython3",
   "version": "3.7.6"
  }
 },
 "nbformat": 4,
 "nbformat_minor": 4
}
