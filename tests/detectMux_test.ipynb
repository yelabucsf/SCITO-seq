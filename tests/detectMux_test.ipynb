{
 "cells": [
  {
   "cell_type": "code",
   "execution_count": 1,
   "metadata": {},
   "outputs": [
    {
     "name": "stderr",
     "output_type": "stream",
     "text": [
      "/Users/antonogorodnikov/anaconda3/envs/scito/lib/python3.8/site-packages/anndata/core/anndata.py:17: FutureWarning: pandas.core.index is deprecated and will be removed in a future version.  The public classes are available in the top-level namespace.\n",
      "  from pandas.core.index import RangeIndex\n"
     ]
    }
   ],
   "source": [
    "import os\n",
    "import scanpy as sc\n",
    "import numpy as np\n",
    "import multiprocessing\n",
    "import anndata\n",
    "import pandas as pd\n",
    "\n",
    "from sklearn.cluster import KMeans\n",
    "from scipy import sparse\n"
   ]
  },
  {
   "cell_type": "code",
   "execution_count": 2,
   "metadata": {},
   "outputs": [],
   "source": [
    "path = '/Users/antonogorodnikov/Documents/Work/DataSci/SCITO-seq/tests/100k_pbmc_filtered_feature_bc_matrix.h5'"
   ]
  },
  {
   "cell_type": "code",
   "execution_count": 3,
   "metadata": {},
   "outputs": [],
   "source": [
    "batchid_string='barcode'"
   ]
  },
  {
   "cell_type": "code",
   "execution_count": 4,
   "metadata": {},
   "outputs": [
    {
     "name": "stderr",
     "output_type": "stream",
     "text": [
      "Variable names are not unique. To make them unique, call `.var_names_make_unique`.\n"
     ]
    }
   ],
   "source": [
    "adata = sc.read_10x_h5(path, gex_only=False)"
   ]
  },
  {
   "cell_type": "code",
   "execution_count": 5,
   "metadata": {},
   "outputs": [],
   "source": [
    "n_clust=None\n",
    "batches = adata.var_names.str.extract(r'(%s\\d+)'%batchid_string).iloc[:,0].dropna().unique()\n",
    "nClust = n_clust if n_clust != None else len(batches)+1"
   ]
  },
  {
   "cell_type": "code",
   "execution_count": 6,
   "metadata": {},
   "outputs": [
    {
     "name": "stderr",
     "output_type": "stream",
     "text": [
      "/Users/antonogorodnikov/anaconda3/envs/scito/lib/python3.8/site-packages/pandas/core/strings.py:1952: UserWarning: This pattern has match groups. To actually get the groups, use str.extract.\n",
      "  return func(self, *args, **kwargs)\n"
     ]
    }
   ],
   "source": [
    "ab_adata = adata[:,adata.var_names.str.contains(r'(%s\\d+)'%batchid_string)]"
   ]
  },
  {
   "cell_type": "code",
   "execution_count": 7,
   "metadata": {},
   "outputs": [],
   "source": [
    "def count_collapser(data, bc):\n",
    "    '''\n",
    "    Collapses counts for all antibodies for a given batch barcode. Outputs dense data structure\n",
    "    :param data: sparse or dense data (AnnData or DataFrame) with counts\n",
    "    :param bc: batch barcode\n",
    "    :return: Numpy array of cells by batch BC.\n",
    "    '''\n",
    "    #TODO add handle for dense data\n",
    "    rel_data = data[:,data.var.index.str.contains(r'(%s$)'%bc)]\n",
    "    collapsed = rel_data.X.toarray().sum(axis=1).astype(\"int\")\n",
    "\n",
    "    return collapsed"
   ]
  },
  {
   "cell_type": "code",
   "execution_count": 8,
   "metadata": {},
   "outputs": [],
   "source": [
    "batch_counts = np.transpose(np.array([count_collapser(ab_adata, bc) for bc in batches]))"
   ]
  },
  {
   "cell_type": "code",
   "execution_count": 9,
   "metadata": {},
   "outputs": [
    {
     "name": "stderr",
     "output_type": "stream",
     "text": [
      "Transforming to str index.\n"
     ]
    }
   ],
   "source": [
    "# create anndata object with collapsed counts per batch\n",
    "batch_adata = anndata.AnnData(X=sparse.csr_matrix(batch_counts),\n",
    "                              obs=adata.obs,\n",
    "                              var=pd.DataFrame(batches, columns=['batch']))"
   ]
  },
  {
   "cell_type": "code",
   "execution_count": 10,
   "metadata": {},
   "outputs": [
    {
     "data": {
      "text/plain": [
       "AnnData object with n_obs × n_vars = 35371 × 10 \n",
       "    obs: 'n_counts'\n",
       "    var: 'batch'"
      ]
     },
     "execution_count": 10,
     "metadata": {},
     "output_type": "execute_result"
    }
   ],
   "source": [
    "sc.pp.normalize_per_cell(batch_adata, counts_per_cell_after=1e4)\n",
    "#sc.pp.log1p(batch_adata)\n",
    "batch_adata"
   ]
  },
  {
   "cell_type": "code",
   "execution_count": 11,
   "metadata": {},
   "outputs": [],
   "source": [
    "n_clust=None\n",
    "n_init=100\n",
    "kfunc=\"kmeans\"\n",
    "maxneighbor=100\n",
    "seed=42\n",
    "keep_input=False"
   ]
  },
  {
   "cell_type": "code",
   "execution_count": 12,
   "metadata": {},
   "outputs": [],
   "source": [
    "clust_model = KMeans(n_clusters=nClust, n_init=n_init, random_state=seed, n_jobs=int(multiprocessing.cpu_count()*0.6))\n",
    "clusters = clust_model.fit_predict(batch_counts)\n"
   ]
  },
  {
   "cell_type": "code",
   "execution_count": 13,
   "metadata": {},
   "outputs": [
    {
     "data": {
      "text/plain": [
       "AnnData object with n_obs × n_vars = 35371 × 10 \n",
       "    obs: 'n_counts'\n",
       "    var: 'batch'"
      ]
     },
     "execution_count": 13,
     "metadata": {},
     "output_type": "execute_result"
    }
   ],
   "source": [
    "batch_adata"
   ]
  },
  {
   "cell_type": "code",
   "execution_count": 14,
   "metadata": {},
   "outputs": [],
   "source": [
    "# Dont change\n",
    "def av_gene_expression(anndata, marker_dict, gene_symbol_key=None, partition_key='batch_cluster'):\n",
    "    \"\"\" Copied from https://github.com/theislab/scanpy/issues/181 - posted by one of scanpy developers\n",
    "    A function go get mean z-score expressions of feature per cluster (class)\n",
    "    #\n",
    "    # Inputs:\n",
    "    #    anndata         - An AnnData object containing the data set and a partition\n",
    "    #    marker_dict     - A dictionary with cell-type markers. The markers should be stores as anndata.var_names or\n",
    "    #                      an anndata.var field with the key given by the gene_symbol_key input\n",
    "    #    gene_symbol_key - The key for the anndata.var field with gene IDs or names that correspond to the marker\n",
    "    #                      genes\n",
    "    #    partition_key   - The key for the anndata.obs field where the cluster IDs are stored. The default is\n",
    "    #                      'batch_cluster' \"\"\"\n",
    "\n",
    "    # Test inputs\n",
    "    if partition_key not in anndata.obs.columns.values:\n",
    "        print('KeyError: The partition key was not found in the passed AnnData object.')\n",
    "        print('   Have you done the clustering? If so, please tell pass the cluster IDs with the AnnData object!')\n",
    "        raise\n",
    "\n",
    "    if (gene_symbol_key != None) and (gene_symbol_key not in anndata.var.columns.values):\n",
    "        print('KeyError: The provided gene symbol key was not found in the passed AnnData object.')\n",
    "        print('   Check that your cell type markers are given in a format that your anndata object knows!')\n",
    "        raise\n",
    "\n",
    "    if gene_symbol_key:\n",
    "        gene_ids = anndata.var[gene_symbol_key]\n",
    "    else:\n",
    "        gene_ids = anndata.var_names\n",
    "\n",
    "    clusters = set(anndata.obs[partition_key])\n",
    "    n_clust = len(clusters)\n",
    "    marker_exp = pd.DataFrame(columns=clusters)\n",
    "    marker_exp['cell_type'] = pd.Series({}, dtype='str')\n",
    "    marker_names = []\n",
    "\n",
    "    z_scores = sc.pp.scale(anndata, copy=True, zero_center=False)\n",
    "\n",
    "    i = 0\n",
    "    for group in marker_dict:\n",
    "        # Find the corresponding columns and get their mean expression in the cluster\n",
    "        for gene in marker_dict[group]:\n",
    "            ens_idx = np.in1d(gene_ids, gene)  # Note there may be multiple mappings\n",
    "            if np.sum(ens_idx) == 0:\n",
    "                continue\n",
    "            else:\n",
    "                z_scores.obs[ens_idx[0]] = z_scores.X[:, ens_idx].mean(1)  # works for both single and multiple mapping\n",
    "                ens_idx = ens_idx[0]\n",
    "\n",
    "            clust_marker_exp = z_scores.obs.groupby(partition_key)[ens_idx].apply(np.mean).tolist()\n",
    "            clust_marker_exp.append(group)\n",
    "            marker_exp.loc[i] = clust_marker_exp\n",
    "            marker_names.append(gene)\n",
    "            i += 1\n",
    "\n",
    "    # Replace the rownames with informative gene symbols\n",
    "    marker_exp.index = marker_names\n",
    "\n",
    "    return (marker_exp)\n"
   ]
  },
  {
   "cell_type": "code",
   "execution_count": 15,
   "metadata": {},
   "outputs": [],
   "source": [
    "marker_dict={batch_adata.var.keys()[0]: batch_adata.var['batch']}"
   ]
  },
  {
   "cell_type": "code",
   "execution_count": 16,
   "metadata": {},
   "outputs": [],
   "source": [
    "batch_adata.obs['batch_cluster'] = clusters"
   ]
  },
  {
   "cell_type": "code",
   "execution_count": 17,
   "metadata": {},
   "outputs": [
    {
     "data": {
      "text/html": [
       "<div>\n",
       "<style scoped>\n",
       "    .dataframe tbody tr th:only-of-type {\n",
       "        vertical-align: middle;\n",
       "    }\n",
       "\n",
       "    .dataframe tbody tr th {\n",
       "        vertical-align: top;\n",
       "    }\n",
       "\n",
       "    .dataframe thead th {\n",
       "        text-align: right;\n",
       "    }\n",
       "</style>\n",
       "<table border=\"1\" class=\"dataframe\">\n",
       "  <thead>\n",
       "    <tr style=\"text-align: right;\">\n",
       "      <th></th>\n",
       "      <th>0</th>\n",
       "      <th>1</th>\n",
       "      <th>2</th>\n",
       "      <th>3</th>\n",
       "      <th>4</th>\n",
       "      <th>5</th>\n",
       "      <th>6</th>\n",
       "      <th>7</th>\n",
       "      <th>8</th>\n",
       "      <th>9</th>\n",
       "      <th>10</th>\n",
       "      <th>cell_type</th>\n",
       "    </tr>\n",
       "  </thead>\n",
       "  <tbody>\n",
       "    <tr>\n",
       "      <th>barcode1</th>\n",
       "      <td>0.203231</td>\n",
       "      <td>4.206511</td>\n",
       "      <td>0.001272</td>\n",
       "      <td>0.292635</td>\n",
       "      <td>0.023208</td>\n",
       "      <td>4.072051</td>\n",
       "      <td>0.193131</td>\n",
       "      <td>2.793429</td>\n",
       "      <td>0.199530</td>\n",
       "      <td>0.197400</td>\n",
       "      <td>0.007192</td>\n",
       "      <td>batch</td>\n",
       "    </tr>\n",
       "    <tr>\n",
       "      <th>barcode2</th>\n",
       "      <td>3.068106</td>\n",
       "      <td>0.000639</td>\n",
       "      <td>0.001102</td>\n",
       "      <td>0.253333</td>\n",
       "      <td>0.004399</td>\n",
       "      <td>0.002208</td>\n",
       "      <td>0.375388</td>\n",
       "      <td>0.177102</td>\n",
       "      <td>0.174944</td>\n",
       "      <td>0.185789</td>\n",
       "      <td>0.005443</td>\n",
       "      <td>batch</td>\n",
       "    </tr>\n",
       "    <tr>\n",
       "      <th>barcode3</th>\n",
       "      <td>0.168932</td>\n",
       "      <td>0.000704</td>\n",
       "      <td>0.000956</td>\n",
       "      <td>0.252115</td>\n",
       "      <td>0.003941</td>\n",
       "      <td>0.049483</td>\n",
       "      <td>2.923872</td>\n",
       "      <td>0.170008</td>\n",
       "      <td>0.183007</td>\n",
       "      <td>0.179390</td>\n",
       "      <td>0.004519</td>\n",
       "      <td>batch</td>\n",
       "    </tr>\n",
       "    <tr>\n",
       "      <th>barcode4</th>\n",
       "      <td>0.218435</td>\n",
       "      <td>0.000653</td>\n",
       "      <td>0.001202</td>\n",
       "      <td>0.750875</td>\n",
       "      <td>0.029274</td>\n",
       "      <td>0.001206</td>\n",
       "      <td>0.202652</td>\n",
       "      <td>0.213478</td>\n",
       "      <td>0.220353</td>\n",
       "      <td>0.205166</td>\n",
       "      <td>0.005298</td>\n",
       "      <td>batch</td>\n",
       "    </tr>\n",
       "    <tr>\n",
       "      <th>barcode5</th>\n",
       "      <td>0.219544</td>\n",
       "      <td>0.004051</td>\n",
       "      <td>0.020069</td>\n",
       "      <td>0.808039</td>\n",
       "      <td>0.005113</td>\n",
       "      <td>0.002092</td>\n",
       "      <td>0.208328</td>\n",
       "      <td>0.223306</td>\n",
       "      <td>0.240596</td>\n",
       "      <td>0.205833</td>\n",
       "      <td>6.098987</td>\n",
       "      <td>batch</td>\n",
       "    </tr>\n",
       "    <tr>\n",
       "      <th>barcode6</th>\n",
       "      <td>0.195221</td>\n",
       "      <td>0.000616</td>\n",
       "      <td>0.010317</td>\n",
       "      <td>0.457736</td>\n",
       "      <td>0.089038</td>\n",
       "      <td>0.001724</td>\n",
       "      <td>0.180255</td>\n",
       "      <td>0.188916</td>\n",
       "      <td>0.196361</td>\n",
       "      <td>3.365077</td>\n",
       "      <td>0.040898</td>\n",
       "      <td>batch</td>\n",
       "    </tr>\n",
       "    <tr>\n",
       "      <th>barcode7</th>\n",
       "      <td>0.230624</td>\n",
       "      <td>0.000906</td>\n",
       "      <td>0.000990</td>\n",
       "      <td>0.785763</td>\n",
       "      <td>0.005355</td>\n",
       "      <td>0.001733</td>\n",
       "      <td>0.213460</td>\n",
       "      <td>0.227272</td>\n",
       "      <td>0.233675</td>\n",
       "      <td>0.218348</td>\n",
       "      <td>0.005888</td>\n",
       "      <td>batch</td>\n",
       "    </tr>\n",
       "    <tr>\n",
       "      <th>barcode8</th>\n",
       "      <td>0.166754</td>\n",
       "      <td>0.000909</td>\n",
       "      <td>0.064687</td>\n",
       "      <td>0.246165</td>\n",
       "      <td>0.040873</td>\n",
       "      <td>0.001596</td>\n",
       "      <td>0.152295</td>\n",
       "      <td>0.160836</td>\n",
       "      <td>3.187574</td>\n",
       "      <td>0.162449</td>\n",
       "      <td>0.005275</td>\n",
       "      <td>batch</td>\n",
       "    </tr>\n",
       "    <tr>\n",
       "      <th>barcode9</th>\n",
       "      <td>0.226492</td>\n",
       "      <td>0.000938</td>\n",
       "      <td>5.450461</td>\n",
       "      <td>0.754480</td>\n",
       "      <td>5.334151</td>\n",
       "      <td>0.053113</td>\n",
       "      <td>0.199177</td>\n",
       "      <td>0.227773</td>\n",
       "      <td>0.227157</td>\n",
       "      <td>0.207690</td>\n",
       "      <td>0.005566</td>\n",
       "      <td>batch</td>\n",
       "    </tr>\n",
       "    <tr>\n",
       "      <th>barcode10</th>\n",
       "      <td>0.194421</td>\n",
       "      <td>0.008415</td>\n",
       "      <td>0.000986</td>\n",
       "      <td>0.706203</td>\n",
       "      <td>0.002183</td>\n",
       "      <td>0.068181</td>\n",
       "      <td>0.172467</td>\n",
       "      <td>0.192769</td>\n",
       "      <td>0.212241</td>\n",
       "      <td>0.187663</td>\n",
       "      <td>0.002682</td>\n",
       "      <td>batch</td>\n",
       "    </tr>\n",
       "  </tbody>\n",
       "</table>\n",
       "</div>"
      ],
      "text/plain": [
       "                  0         1         2         3         4         5  \\\n",
       "barcode1   0.203231  4.206511  0.001272  0.292635  0.023208  4.072051   \n",
       "barcode2   3.068106  0.000639  0.001102  0.253333  0.004399  0.002208   \n",
       "barcode3   0.168932  0.000704  0.000956  0.252115  0.003941  0.049483   \n",
       "barcode4   0.218435  0.000653  0.001202  0.750875  0.029274  0.001206   \n",
       "barcode5   0.219544  0.004051  0.020069  0.808039  0.005113  0.002092   \n",
       "barcode6   0.195221  0.000616  0.010317  0.457736  0.089038  0.001724   \n",
       "barcode7   0.230624  0.000906  0.000990  0.785763  0.005355  0.001733   \n",
       "barcode8   0.166754  0.000909  0.064687  0.246165  0.040873  0.001596   \n",
       "barcode9   0.226492  0.000938  5.450461  0.754480  5.334151  0.053113   \n",
       "barcode10  0.194421  0.008415  0.000986  0.706203  0.002183  0.068181   \n",
       "\n",
       "                  6         7         8         9        10 cell_type  \n",
       "barcode1   0.193131  2.793429  0.199530  0.197400  0.007192     batch  \n",
       "barcode2   0.375388  0.177102  0.174944  0.185789  0.005443     batch  \n",
       "barcode3   2.923872  0.170008  0.183007  0.179390  0.004519     batch  \n",
       "barcode4   0.202652  0.213478  0.220353  0.205166  0.005298     batch  \n",
       "barcode5   0.208328  0.223306  0.240596  0.205833  6.098987     batch  \n",
       "barcode6   0.180255  0.188916  0.196361  3.365077  0.040898     batch  \n",
       "barcode7   0.213460  0.227272  0.233675  0.218348  0.005888     batch  \n",
       "barcode8   0.152295  0.160836  3.187574  0.162449  0.005275     batch  \n",
       "barcode9   0.199177  0.227773  0.227157  0.207690  0.005566     batch  \n",
       "barcode10  0.172467  0.192769  0.212241  0.187663  0.002682     batch  "
      ]
     },
     "execution_count": 17,
     "metadata": {},
     "output_type": "execute_result"
    }
   ],
   "source": [
    "av_gene_expression(batch_adata, marker_dict, gene_symbol_key='batch', partition_key='batch_cluster')"
   ]
  },
  {
   "cell_type": "code",
   "execution_count": 1,
   "metadata": {},
   "outputs": [
    {
     "ename": "NameError",
     "evalue": "name 'np' is not defined",
     "output_type": "error",
     "traceback": [
      "\u001b[0;31m---------------------------------------------------------------------------\u001b[0m",
      "\u001b[0;31mNameError\u001b[0m                                 Traceback (most recent call last)",
      "\u001b[0;32m<ipython-input-1-5a9f15964ba0>\u001b[0m in \u001b[0;36m<module>\u001b[0;34m\u001b[0m\n\u001b[0;32m----> 1\u001b[0;31m \u001b[0mnp\u001b[0m\u001b[0;34m.\u001b[0m\u001b[0mtranspose\u001b[0m\u001b[0;34m(\u001b[0m\u001b[0mbatch_adata\u001b[0m\u001b[0;34m.\u001b[0m\u001b[0mX\u001b[0m\u001b[0;34m.\u001b[0m\u001b[0mtodense\u001b[0m\u001b[0;34m(\u001b[0m\u001b[0;34m)\u001b[0m\u001b[0;34m)\u001b[0m\u001b[0;34m[\u001b[0m\u001b[0;34m:\u001b[0m\u001b[0;36m10\u001b[0m\u001b[0;34m,\u001b[0m\u001b[0;34m:\u001b[0m\u001b[0;36m10\u001b[0m\u001b[0;34m]\u001b[0m\u001b[0;34m\u001b[0m\u001b[0;34m\u001b[0m\u001b[0m\n\u001b[0m",
      "\u001b[0;31mNameError\u001b[0m: name 'np' is not defined"
     ]
    }
   ],
   "source": [
    "np.transpose(batch_adata.X.todense())[:10,:10]"
   ]
  },
  {
   "cell_type": "code",
   "execution_count": 20,
   "metadata": {},
   "outputs": [
    {
     "data": {
      "text/plain": [
       "'batch'"
      ]
     },
     "execution_count": 20,
     "metadata": {},
     "output_type": "execute_result"
    }
   ],
   "source": [
    "batch_adata.var.keys()[0]"
   ]
  },
  {
   "cell_type": "code",
   "execution_count": null,
   "metadata": {},
   "outputs": [],
   "source": []
  }
 ],
 "metadata": {
  "kernelspec": {
   "display_name": "Python 3",
   "language": "python",
   "name": "python3"
  },
  "language_info": {
   "codemirror_mode": {
    "name": "ipython",
    "version": 3
   },
   "file_extension": ".py",
   "mimetype": "text/x-python",
   "name": "python",
   "nbconvert_exporter": "python",
   "pygments_lexer": "ipython3",
   "version": "3.8.1"
  }
 },
 "nbformat": 4,
 "nbformat_minor": 4
}
