{
 "cells": [
  {
   "cell_type": "code",
   "execution_count": 1,
   "metadata": {},
   "outputs": [
    {
     "name": "stderr",
     "output_type": "stream",
     "text": [
      "/Users/antonogorodnikov/anaconda3/envs/scito/lib/python3.7/site-packages/anndata/_core/anndata.py:21: FutureWarning: pandas.core.index is deprecated and will be removed in a future version.  The public classes are available in the top-level namespace.\n",
      "  from pandas.core.index import RangeIndex\n"
     ]
    }
   ],
   "source": [
    "from scito import preprocess\n",
    "import seaborn as sns\n",
    "import scanpy as sc\n",
    "import pandas as pd\n",
    "import numpy as np"
   ]
  },
  {
   "cell_type": "markdown",
   "metadata": {},
   "source": [
    "# Multiplet Rate for 100k"
   ]
  },
  {
   "cell_type": "code",
   "execution_count": 2,
   "metadata": {},
   "outputs": [],
   "source": [
    "path = '/Users/antonogorodnikov/Documents/Work/DataSci/SCITO-seq/tests/100k_pbmc_filtered_feature_bc_matrix.h5'\n",
    "verbose = True"
   ]
  },
  {
   "cell_type": "code",
   "execution_count": 3,
   "metadata": {},
   "outputs": [
    {
     "name": "stderr",
     "output_type": "stream",
     "text": [
      "Variable names are not unique. To make them unique, call `.var_names_make_unique`.\n"
     ]
    }
   ],
   "source": [
    "adata = sc.read_10x_h5(path, gex_only=False)"
   ]
  },
  {
   "cell_type": "code",
   "execution_count": 4,
   "metadata": {},
   "outputs": [
    {
     "data": {
      "text/plain": [
       "AnnData object with n_obs × n_vars = 35371 × 33818 \n",
       "    var: 'gene_ids', 'feature_types', 'genome'"
      ]
     },
     "execution_count": 4,
     "metadata": {},
     "output_type": "execute_result"
    }
   ],
   "source": [
    "adata"
   ]
  },
  {
   "cell_type": "code",
   "execution_count": 5,
   "metadata": {},
   "outputs": [],
   "source": [
    "corr_var = pd.read_csv(\"/Users/antonogorodnikov/Documents/Work/DataSci/SCITO-seq/tests/var.csv\", index_col=0)"
   ]
  },
  {
   "cell_type": "code",
   "execution_count": 6,
   "metadata": {},
   "outputs": [],
   "source": [
    "adata.var = corr_var"
   ]
  },
  {
   "cell_type": "code",
   "execution_count": 7,
   "metadata": {},
   "outputs": [
    {
     "name": "stderr",
     "output_type": "stream",
     "text": [
      "Variable names are not unique. To make them unique, call `.var_names_make_unique`.\n",
      "/Users/antonogorodnikov/anaconda3/envs/scito/lib/python3.7/site-packages/pandas/core/strings.py:1952: UserWarning: This pattern has match groups. To actually get the groups, use str.extract.\n",
      "  return func(self, *args, **kwargs)\n",
      "Transforming to str index.\n"
     ]
    },
    {
     "name": "stdout",
     "output_type": "stream",
     "text": [
      "Keeping linear scale data for computing average\n",
      "Performing k-means clustering\n"
     ]
    },
    {
     "name": "stderr",
     "output_type": "stream",
     "text": [
      "Transforming to str index.\n",
      "/Users/antonogorodnikov/anaconda3/envs/scito/lib/python3.7/site-packages/pandas/core/strings.py:1952: UserWarning: This pattern has match groups. To actually get the groups, use str.extract.\n",
      "  return func(self, *args, **kwargs)\n",
      "/Users/antonogorodnikov/anaconda3/envs/scito/lib/python3.7/site-packages/scipy/sparse/_index.py:126: SparseEfficiencyWarning: Changing the sparsity structure of a csr_matrix is expensive. lil_matrix is more efficient.\n",
      "  self._set_arrayXarray(i, j, x)\n"
     ]
    },
    {
     "name": "stdout",
     "output_type": "stream",
     "text": [
      "Cutoff for barcode1: 2657 reads\n"
     ]
    },
    {
     "name": "stderr",
     "output_type": "stream",
     "text": [
      "Observation names are not unique. To make them unique, call `.obs_names_make_unique`.\n",
      "Or pass `index_unique!=None` to `.concatenate`.\n"
     ]
    },
    {
     "name": "stdout",
     "output_type": "stream",
     "text": [
      "Cutoff for barcode2: 828 reads\n"
     ]
    },
    {
     "name": "stderr",
     "output_type": "stream",
     "text": [
      "Observation names are not unique. To make them unique, call `.obs_names_make_unique`.\n",
      "Or pass `index_unique!=None` to `.concatenate`.\n"
     ]
    },
    {
     "name": "stdout",
     "output_type": "stream",
     "text": [
      "Cutoff for barcode3: 759 reads\n"
     ]
    },
    {
     "name": "stderr",
     "output_type": "stream",
     "text": [
      "Observation names are not unique. To make them unique, call `.obs_names_make_unique`.\n",
      "Or pass `index_unique!=None` to `.concatenate`.\n"
     ]
    },
    {
     "name": "stdout",
     "output_type": "stream",
     "text": [
      "Cutoff for barcode4: 1069 reads\n"
     ]
    },
    {
     "name": "stderr",
     "output_type": "stream",
     "text": [
      "Observation names are not unique. To make them unique, call `.obs_names_make_unique`.\n",
      "Or pass `index_unique!=None` to `.concatenate`.\n"
     ]
    },
    {
     "name": "stdout",
     "output_type": "stream",
     "text": [
      "Cutoff for barcode5: 973 reads\n"
     ]
    },
    {
     "name": "stderr",
     "output_type": "stream",
     "text": [
      "Observation names are not unique. To make them unique, call `.obs_names_make_unique`.\n",
      "Or pass `index_unique!=None` to `.concatenate`.\n"
     ]
    },
    {
     "name": "stdout",
     "output_type": "stream",
     "text": [
      "Cutoff for barcode6: 1451 reads\n"
     ]
    },
    {
     "name": "stderr",
     "output_type": "stream",
     "text": [
      "Observation names are not unique. To make them unique, call `.obs_names_make_unique`.\n",
      "Or pass `index_unique!=None` to `.concatenate`.\n"
     ]
    },
    {
     "name": "stdout",
     "output_type": "stream",
     "text": [
      "Cutoff for barcode7: 1223 reads\n"
     ]
    },
    {
     "name": "stderr",
     "output_type": "stream",
     "text": [
      "Observation names are not unique. To make them unique, call `.obs_names_make_unique`.\n",
      "Or pass `index_unique!=None` to `.concatenate`.\n"
     ]
    },
    {
     "name": "stdout",
     "output_type": "stream",
     "text": [
      "Cutoff for barcode8: 757 reads\n"
     ]
    },
    {
     "name": "stderr",
     "output_type": "stream",
     "text": [
      "Observation names are not unique. To make them unique, call `.obs_names_make_unique`.\n",
      "Or pass `index_unique!=None` to `.concatenate`.\n"
     ]
    },
    {
     "name": "stdout",
     "output_type": "stream",
     "text": [
      "Cutoff for barcode9: 1355 reads\n"
     ]
    },
    {
     "name": "stderr",
     "output_type": "stream",
     "text": [
      "Observation names are not unique. To make them unique, call `.obs_names_make_unique`.\n",
      "Or pass `index_unique!=None` to `.concatenate`.\n"
     ]
    },
    {
     "name": "stdout",
     "output_type": "stream",
     "text": [
      "Cutoff for barcode10: 259 reads\n",
      "Keeping sparse matrix with antibody expression only. Target = self.input\n",
      "Assigning best guesses\n"
     ]
    }
   ],
   "source": [
    "scito_in = preprocess.ScitoFrame(from_scanpy=True, adata=adata)\n",
    "demuxed = scito_in.resolveMux(batchid_string=\"barcode\",\n",
    "                        positiveQuantile=0.99,\n",
    "                        n_clust=None,\n",
    "                        n_init=100,\n",
    "                        kfunc=\"kmeans\",\n",
    "                        maxneighbor=100,\n",
    "                        seed=42,\n",
    "                        keep_input=True,\n",
    "                        verbose=True)\n",
    "\n"
   ]
  },
  {
   "cell_type": "code",
   "execution_count": 9,
   "metadata": {},
   "outputs": [
    {
     "data": {
      "text/plain": [
       "array(['barcode1', 'barcode2', 'barcode3', 'barcode4', 'barcode5',\n",
       "       'barcode6', 'barcode7', 'barcode8', 'barcode9', 'barcode10'],\n",
       "      dtype=object)"
      ]
     },
     "execution_count": 9,
     "metadata": {},
     "output_type": "execute_result"
    }
   ],
   "source": [
    "demuxed.obs.batch_name.unique()"
   ]
  },
  {
   "cell_type": "code",
   "execution_count": 11,
   "metadata": {},
   "outputs": [],
   "source": [
    "doublet_rate = scito_in.meta.N_drops"
   ]
  },
  {
   "cell_type": "code",
   "execution_count": 12,
   "metadata": {},
   "outputs": [
    {
     "data": {
      "text/plain": [
       "0.4719120183200927"
      ]
     },
     "execution_count": 12,
     "metadata": {},
     "output_type": "execute_result"
    }
   ],
   "source": [
    "# droplet rate\n",
    "np.sum(scito_in.meta.N_drops[2:])/np.sum(scito_in.meta.N_drops)"
   ]
  },
  {
   "cell_type": "markdown",
   "metadata": {},
   "source": [
    "# Multiplet Rate for 200k"
   ]
  },
  {
   "cell_type": "code",
   "execution_count": 2,
   "metadata": {},
   "outputs": [],
   "source": [
    "path = '/Users/antonogorodnikov/Documents/Work/DataSci/SCITO-seq/tests/filtered_feature_bc_matrix.h5'\n",
    "verbose = True"
   ]
  },
  {
   "cell_type": "code",
   "execution_count": 3,
   "metadata": {},
   "outputs": [
    {
     "name": "stderr",
     "output_type": "stream",
     "text": [
      "Variable names are not unique. To make them unique, call `.var_names_make_unique`.\n"
     ]
    }
   ],
   "source": [
    "adata = sc.read_10x_h5(path, gex_only=False)"
   ]
  },
  {
   "cell_type": "code",
   "execution_count": 4,
   "metadata": {},
   "outputs": [
    {
     "data": {
      "text/plain": [
       "AnnData object with n_obs × n_vars = 49511 × 33818 \n",
       "    var: 'gene_ids', 'feature_types', 'genome'"
      ]
     },
     "execution_count": 4,
     "metadata": {},
     "output_type": "execute_result"
    }
   ],
   "source": [
    "adata"
   ]
  },
  {
   "cell_type": "code",
   "execution_count": 5,
   "metadata": {},
   "outputs": [],
   "source": [
    "corr_var = pd.read_csv(\"/Users/antonogorodnikov/Documents/Work/DataSci/SCITO-seq/tests/var.csv\", index_col=0)"
   ]
  },
  {
   "cell_type": "code",
   "execution_count": 6,
   "metadata": {},
   "outputs": [],
   "source": [
    "adata.var = corr_var"
   ]
  },
  {
   "cell_type": "code",
   "execution_count": 8,
   "metadata": {},
   "outputs": [
    {
     "name": "stderr",
     "output_type": "stream",
     "text": [
      "Variable names are not unique. To make them unique, call `.var_names_make_unique`.\n"
     ]
    }
   ],
   "source": [
    "lol = preprocess.ScitoFrame(from_scanpy=True, adata=adata)"
   ]
  },
  {
   "cell_type": "code",
   "execution_count": 9,
   "metadata": {},
   "outputs": [
    {
     "name": "stderr",
     "output_type": "stream",
     "text": [
      "/Users/antonogorodnikov/anaconda3/envs/scito/lib/python3.7/site-packages/pandas/core/strings.py:1952: UserWarning: This pattern has match groups. To actually get the groups, use str.extract.\n",
      "  return func(self, *args, **kwargs)\n",
      "Transforming to str index.\n"
     ]
    },
    {
     "name": "stdout",
     "output_type": "stream",
     "text": [
      "Keeping linear scale data for computing average\n",
      "Performing k-means clustering\n"
     ]
    },
    {
     "name": "stderr",
     "output_type": "stream",
     "text": [
      "Transforming to str index.\n",
      "/Users/antonogorodnikov/anaconda3/envs/scito/lib/python3.7/site-packages/pandas/core/strings.py:1952: UserWarning: This pattern has match groups. To actually get the groups, use str.extract.\n",
      "  return func(self, *args, **kwargs)\n",
      "/Users/antonogorodnikov/anaconda3/envs/scito/lib/python3.7/site-packages/scipy/sparse/_index.py:126: SparseEfficiencyWarning: Changing the sparsity structure of a csr_matrix is expensive. lil_matrix is more efficient.\n",
      "  self._set_arrayXarray(i, j, x)\n"
     ]
    },
    {
     "name": "stdout",
     "output_type": "stream",
     "text": [
      "Cutoff for barcode1: 2634 reads\n"
     ]
    },
    {
     "name": "stderr",
     "output_type": "stream",
     "text": [
      "Observation names are not unique. To make them unique, call `.obs_names_make_unique`.\n",
      "Or pass `index_unique!=None` to `.concatenate`.\n"
     ]
    },
    {
     "name": "stdout",
     "output_type": "stream",
     "text": [
      "Cutoff for barcode2: 3043 reads\n"
     ]
    },
    {
     "name": "stderr",
     "output_type": "stream",
     "text": [
      "Observation names are not unique. To make them unique, call `.obs_names_make_unique`.\n",
      "Or pass `index_unique!=None` to `.concatenate`.\n"
     ]
    },
    {
     "name": "stdout",
     "output_type": "stream",
     "text": [
      "Cutoff for barcode3: 848 reads\n"
     ]
    },
    {
     "name": "stderr",
     "output_type": "stream",
     "text": [
      "Observation names are not unique. To make them unique, call `.obs_names_make_unique`.\n",
      "Or pass `index_unique!=None` to `.concatenate`.\n"
     ]
    },
    {
     "name": "stdout",
     "output_type": "stream",
     "text": [
      "Cutoff for barcode4: 1613 reads\n"
     ]
    },
    {
     "name": "stderr",
     "output_type": "stream",
     "text": [
      "Observation names are not unique. To make them unique, call `.obs_names_make_unique`.\n",
      "Or pass `index_unique!=None` to `.concatenate`.\n"
     ]
    },
    {
     "name": "stdout",
     "output_type": "stream",
     "text": [
      "Cutoff for barcode5: 1556 reads\n"
     ]
    },
    {
     "name": "stderr",
     "output_type": "stream",
     "text": [
      "Observation names are not unique. To make them unique, call `.obs_names_make_unique`.\n",
      "Or pass `index_unique!=None` to `.concatenate`.\n"
     ]
    },
    {
     "name": "stdout",
     "output_type": "stream",
     "text": [
      "Cutoff for barcode6: 2637 reads\n"
     ]
    },
    {
     "name": "stderr",
     "output_type": "stream",
     "text": [
      "Observation names are not unique. To make them unique, call `.obs_names_make_unique`.\n",
      "Or pass `index_unique!=None` to `.concatenate`.\n"
     ]
    },
    {
     "name": "stdout",
     "output_type": "stream",
     "text": [
      "Cutoff for barcode7: 2276 reads\n"
     ]
    },
    {
     "name": "stderr",
     "output_type": "stream",
     "text": [
      "Observation names are not unique. To make them unique, call `.obs_names_make_unique`.\n",
      "Or pass `index_unique!=None` to `.concatenate`.\n"
     ]
    },
    {
     "name": "stdout",
     "output_type": "stream",
     "text": [
      "Cutoff for barcode8: 1175 reads\n"
     ]
    },
    {
     "name": "stderr",
     "output_type": "stream",
     "text": [
      "Observation names are not unique. To make them unique, call `.obs_names_make_unique`.\n",
      "Or pass `index_unique!=None` to `.concatenate`.\n"
     ]
    },
    {
     "name": "stdout",
     "output_type": "stream",
     "text": [
      "Cutoff for barcode9: 1521 reads\n"
     ]
    },
    {
     "name": "stderr",
     "output_type": "stream",
     "text": [
      "Observation names are not unique. To make them unique, call `.obs_names_make_unique`.\n",
      "Or pass `index_unique!=None` to `.concatenate`.\n"
     ]
    },
    {
     "name": "stdout",
     "output_type": "stream",
     "text": [
      "Cutoff for barcode10: 320 reads\n",
      "Assigning best guesses\n"
     ]
    }
   ],
   "source": [
    "lol_2 = lol.resolveMux(batchid_string=\"barcode\",\n",
    "                        positiveQuantile=0.99,\n",
    "                        n_clust=None,\n",
    "                        n_init=100,\n",
    "                        kfunc=\"kmeans\",\n",
    "                        maxneighbor=100,\n",
    "                        seed=42,\n",
    "                        keep_input=False,\n",
    "                        verbose=True)\n",
    "\n"
   ]
  },
  {
   "cell_type": "code",
   "execution_count": 10,
   "metadata": {},
   "outputs": [
    {
     "data": {
      "text/html": [
       "<div>\n",
       "<style scoped>\n",
       "    .dataframe tbody tr th:only-of-type {\n",
       "        vertical-align: middle;\n",
       "    }\n",
       "\n",
       "    .dataframe tbody tr th {\n",
       "        vertical-align: top;\n",
       "    }\n",
       "\n",
       "    .dataframe thead th {\n",
       "        text-align: right;\n",
       "    }\n",
       "</style>\n",
       "<table border=\"1\" class=\"dataframe\">\n",
       "  <thead>\n",
       "    <tr style=\"text-align: right;\">\n",
       "      <th></th>\n",
       "      <th>cells_per_drop</th>\n",
       "      <th>N_drops</th>\n",
       "    </tr>\n",
       "  </thead>\n",
       "  <tbody>\n",
       "    <tr>\n",
       "      <th>0</th>\n",
       "      <td>0 cells per drop</td>\n",
       "      <td>11</td>\n",
       "    </tr>\n",
       "    <tr>\n",
       "      <th>1</th>\n",
       "      <td>1 cells per drop</td>\n",
       "      <td>17534</td>\n",
       "    </tr>\n",
       "    <tr>\n",
       "      <th>2</th>\n",
       "      <td>2 cells per drop</td>\n",
       "      <td>25402</td>\n",
       "    </tr>\n",
       "    <tr>\n",
       "      <th>3</th>\n",
       "      <td>3 cells per drop</td>\n",
       "      <td>6256</td>\n",
       "    </tr>\n",
       "    <tr>\n",
       "      <th>4</th>\n",
       "      <td>4 cells per drop</td>\n",
       "      <td>305</td>\n",
       "    </tr>\n",
       "    <tr>\n",
       "      <th>5</th>\n",
       "      <td>5 cells per drop</td>\n",
       "      <td>3</td>\n",
       "    </tr>\n",
       "    <tr>\n",
       "      <th>6</th>\n",
       "      <td>6 cells per drop</td>\n",
       "      <td>0</td>\n",
       "    </tr>\n",
       "  </tbody>\n",
       "</table>\n",
       "</div>"
      ],
      "text/plain": [
       "     cells_per_drop  N_drops\n",
       "0  0 cells per drop       11\n",
       "1  1 cells per drop    17534\n",
       "2  2 cells per drop    25402\n",
       "3  3 cells per drop     6256\n",
       "4  4 cells per drop      305\n",
       "5  5 cells per drop        3\n",
       "6  6 cells per drop        0"
      ]
     },
     "execution_count": 10,
     "metadata": {},
     "output_type": "execute_result"
    }
   ],
   "source": [
    "lol.meta"
   ]
  },
  {
   "cell_type": "code",
   "execution_count": 11,
   "metadata": {},
   "outputs": [],
   "source": [
    "doublet_rate = lol.meta.N_drops"
   ]
  },
  {
   "cell_type": "code",
   "execution_count": 12,
   "metadata": {},
   "outputs": [
    {
     "data": {
      "text/plain": [
       "0.6456343034881138"
      ]
     },
     "execution_count": 12,
     "metadata": {},
     "output_type": "execute_result"
    }
   ],
   "source": [
    "# droplet rate\n",
    "np.sum(lol.meta.N_drops[2:])/np.sum(lol.meta.N_drops)"
   ]
  },
  {
   "cell_type": "code",
   "execution_count": 15,
   "metadata": {},
   "outputs": [
    {
     "data": {
      "text/html": [
       "<div>\n",
       "<style scoped>\n",
       "    .dataframe tbody tr th:only-of-type {\n",
       "        vertical-align: middle;\n",
       "    }\n",
       "\n",
       "    .dataframe tbody tr th {\n",
       "        vertical-align: top;\n",
       "    }\n",
       "\n",
       "    .dataframe thead th {\n",
       "        text-align: right;\n",
       "    }\n",
       "</style>\n",
       "<table border=\"1\" class=\"dataframe\">\n",
       "  <thead>\n",
       "    <tr style=\"text-align: right;\">\n",
       "      <th></th>\n",
       "      <th>n_counts</th>\n",
       "      <th>batch_cluster</th>\n",
       "      <th>assignment</th>\n",
       "      <th>best_guess</th>\n",
       "      <th>expression</th>\n",
       "    </tr>\n",
       "  </thead>\n",
       "  <tbody>\n",
       "    <tr>\n",
       "      <th>AAACCCAAGAGGTATT-1</th>\n",
       "      <td>2456.0</td>\n",
       "      <td>1</td>\n",
       "      <td>MTP</td>\n",
       "      <td>(barcode2, barcode4)</td>\n",
       "      <td>(8.28, 7.8)</td>\n",
       "    </tr>\n",
       "    <tr>\n",
       "      <th>AAACCCAAGAGTGGCT-1</th>\n",
       "      <td>2004.0</td>\n",
       "      <td>6</td>\n",
       "      <td>SNG</td>\n",
       "      <td>(barcode2,)</td>\n",
       "      <td>(8.72,)</td>\n",
       "    </tr>\n",
       "    <tr>\n",
       "      <th>AAACCCAAGCGCACAA-1</th>\n",
       "      <td>4173.0</td>\n",
       "      <td>9</td>\n",
       "      <td>MTP</td>\n",
       "      <td>(barcode3, barcode8)</td>\n",
       "      <td>(8.26, 7.79)</td>\n",
       "    </tr>\n",
       "    <tr>\n",
       "      <th>AAACCCAAGCGTCTCG-1</th>\n",
       "      <td>2133.0</td>\n",
       "      <td>8</td>\n",
       "      <td>MTP</td>\n",
       "      <td>(barcode2, barcode8)</td>\n",
       "      <td>(8.35, 8.02)</td>\n",
       "    </tr>\n",
       "    <tr>\n",
       "      <th>AAACCCAAGGAGCAAA-1</th>\n",
       "      <td>2147.0</td>\n",
       "      <td>4</td>\n",
       "      <td>MTP</td>\n",
       "      <td>(barcode5, barcode4)</td>\n",
       "      <td>(8.06, 7.94)</td>\n",
       "    </tr>\n",
       "    <tr>\n",
       "      <th>...</th>\n",
       "      <td>...</td>\n",
       "      <td>...</td>\n",
       "      <td>...</td>\n",
       "      <td>...</td>\n",
       "      <td>...</td>\n",
       "    </tr>\n",
       "    <tr>\n",
       "      <th>TTTGTTGTCGACACCG-1</th>\n",
       "      <td>1955.0</td>\n",
       "      <td>7</td>\n",
       "      <td>MTP</td>\n",
       "      <td>(barcode10, barcode9)</td>\n",
       "      <td>(8.39, 7.56)</td>\n",
       "    </tr>\n",
       "    <tr>\n",
       "      <th>TTTGTTGTCGGTTAGT-1</th>\n",
       "      <td>3297.0</td>\n",
       "      <td>8</td>\n",
       "      <td>MTP</td>\n",
       "      <td>(barcode6, barcode3, barcode8)</td>\n",
       "      <td>(8.04, 7.97, 7.84)</td>\n",
       "    </tr>\n",
       "    <tr>\n",
       "      <th>TTTGTTGTCGTGCTCT-1</th>\n",
       "      <td>2363.0</td>\n",
       "      <td>5</td>\n",
       "      <td>MTP</td>\n",
       "      <td>(barcode9, barcode5, barcode10)</td>\n",
       "      <td>(8.11, 8.03, 7.49)</td>\n",
       "    </tr>\n",
       "    <tr>\n",
       "      <th>TTTGTTGTCGTTCAGA-1</th>\n",
       "      <td>1589.0</td>\n",
       "      <td>8</td>\n",
       "      <td>SNG</td>\n",
       "      <td>(barcode8,)</td>\n",
       "      <td>(8.88,)</td>\n",
       "    </tr>\n",
       "    <tr>\n",
       "      <th>TTTGTTGTCTGCTTTA-1</th>\n",
       "      <td>1146.0</td>\n",
       "      <td>7</td>\n",
       "      <td>MTP</td>\n",
       "      <td>(barcode1, barcode10)</td>\n",
       "      <td>(8.27, 8.08)</td>\n",
       "    </tr>\n",
       "  </tbody>\n",
       "</table>\n",
       "<p>49511 rows × 5 columns</p>\n",
       "</div>"
      ],
      "text/plain": [
       "                    n_counts  batch_cluster assignment  \\\n",
       "AAACCCAAGAGGTATT-1    2456.0              1        MTP   \n",
       "AAACCCAAGAGTGGCT-1    2004.0              6        SNG   \n",
       "AAACCCAAGCGCACAA-1    4173.0              9        MTP   \n",
       "AAACCCAAGCGTCTCG-1    2133.0              8        MTP   \n",
       "AAACCCAAGGAGCAAA-1    2147.0              4        MTP   \n",
       "...                      ...            ...        ...   \n",
       "TTTGTTGTCGACACCG-1    1955.0              7        MTP   \n",
       "TTTGTTGTCGGTTAGT-1    3297.0              8        MTP   \n",
       "TTTGTTGTCGTGCTCT-1    2363.0              5        MTP   \n",
       "TTTGTTGTCGTTCAGA-1    1589.0              8        SNG   \n",
       "TTTGTTGTCTGCTTTA-1    1146.0              7        MTP   \n",
       "\n",
       "                                         best_guess          expression  \n",
       "AAACCCAAGAGGTATT-1             (barcode2, barcode4)         (8.28, 7.8)  \n",
       "AAACCCAAGAGTGGCT-1                      (barcode2,)             (8.72,)  \n",
       "AAACCCAAGCGCACAA-1             (barcode3, barcode8)        (8.26, 7.79)  \n",
       "AAACCCAAGCGTCTCG-1             (barcode2, barcode8)        (8.35, 8.02)  \n",
       "AAACCCAAGGAGCAAA-1             (barcode5, barcode4)        (8.06, 7.94)  \n",
       "...                                             ...                 ...  \n",
       "TTTGTTGTCGACACCG-1            (barcode10, barcode9)        (8.39, 7.56)  \n",
       "TTTGTTGTCGGTTAGT-1   (barcode6, barcode3, barcode8)  (8.04, 7.97, 7.84)  \n",
       "TTTGTTGTCGTGCTCT-1  (barcode9, barcode5, barcode10)  (8.11, 8.03, 7.49)  \n",
       "TTTGTTGTCGTTCAGA-1                      (barcode8,)             (8.88,)  \n",
       "TTTGTTGTCTGCTTTA-1            (barcode1, barcode10)        (8.27, 8.08)  \n",
       "\n",
       "[49511 rows x 5 columns]"
      ]
     },
     "execution_count": 15,
     "metadata": {},
     "output_type": "execute_result"
    }
   ],
   "source": [
    "lol.drop_assign.obs.assingment"
   ]
  },
  {
   "cell_type": "code",
   "execution_count": null,
   "metadata": {},
   "outputs": [],
   "source": []
  }
 ],
 "metadata": {
  "kernelspec": {
   "display_name": "Python 3",
   "language": "python",
   "name": "python3"
  },
  "language_info": {
   "codemirror_mode": {
    "name": "ipython",
    "version": 3
   },
   "file_extension": ".py",
   "mimetype": "text/x-python",
   "name": "python",
   "nbconvert_exporter": "python",
   "pygments_lexer": "ipython3",
   "version": "3.7.6"
  }
 },
 "nbformat": 4,
 "nbformat_minor": 4
}
